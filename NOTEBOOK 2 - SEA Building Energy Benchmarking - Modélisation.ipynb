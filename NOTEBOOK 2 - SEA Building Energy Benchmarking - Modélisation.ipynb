{
 "cells": [
  {
   "cell_type": "markdown",
   "metadata": {},
   "source": [
    "# SEA Building Energy Benchmarking - Modélisation"
   ]
  },
  {
   "cell_type": "markdown",
   "metadata": {},
   "source": [
    "# Plan de projet"
   ]
  },
  {
   "cell_type": "markdown",
   "metadata": {},
   "source": [
    "----------------------------------------------------------------------------\n",
    "**NOTEBOOK 1 - SEA Building Energy Benchmarking - Analyse exploratiore**\n",
    "\n",
    "**1.   Définir la problématique**\n",
    "\n",
    "Nous nous intéressons aux émissions des bâtiments non destinés à l'habitation dans la ville de Seattle. Le but de ce projet est de :\n",
    "\n",
    "- Prédire les émissions de CO2\n",
    "- Prédire la consommation totale d'énergie\n",
    "- Evaluer l'intérêt de l'ENERGY STAR Score pour la prédiction d'émissions\n",
    "\n",
    "\n",
    "**2.   Acquisition de données**\n",
    "\n",
    "Nous disposons de deux fichiers de données de 2015 et 2016 avec des données déclaratives du permis d'exploitation commerciale, ainsi que des données relatives à la consommation d'énergie.\n",
    "\n",
    "Dans cette étape, nous allons :\n",
    "\n",
    "- Vérifier le contenu de fichiers de données (taille, présence de doublons)\n",
    "- Filtrer les données pour obtenir uniquement les données non-résidentielles\n",
    "- Comparer les fichiers 2015 et 2016\n",
    "- Cleaning préalable : supprimer les valeurs apparemment fausses (comme par exemple les valeurs de consommation < 0) et recoder les variables texte pour avoir une taille de police unique (enlever valeurs mixtes en majuscules et minuscules) \n",
    "- Echantillonner les données en jeu de données d'entraînement et de test. Les analyses exploratoires vont être performées uniquement sur les données d'entraînement. \n",
    "\n",
    "L'échantillonnage est fait en prenant la première cible (émissions de CO2) comme vecteur y. L'échantillon test contient 30% de données. Les jeux de données créés :\n",
    "\n",
    "**X_train_A, X_test_A, y_train_A, y_test_A**\n",
    "\n",
    "**data** = jeu de données utilisé dans les analyses descriptives qui contient à la fois les données X_train_A, y_train_A.\n",
    "\n",
    "La modélisation de la partie B du projet (cible = consommation d'énergie) va être effectuée sur le même échantillonnage en échangeant variable représentant les émissions de CO2 contre la variable représentant la consommation totale des immeubles.\n",
    "\n",
    "**3.   Exploration de données**\n",
    "\n",
    "\n",
    "3.1 Analyse de valeurs extrêmes\n",
    "\n",
    "- Analyse descriptive des outliers\n",
    "- Création d'un DataFrame : \n",
    "\n",
    "**data_no_out** - data sans outliers. \n",
    "\n",
    "  \n",
    "3.2 Analyse de données manquantes\n",
    " \n",
    "  \n",
    "3.3 Analyses descriptives et visualisations\n",
    "\n",
    "> 3.3.1 Données qualitatives\n",
    "\n",
    "> 3.3.2 Données quantitatives\n",
    "\n",
    "> 3.3.3 Analyse de corrélations\n",
    "\n",
    "\n",
    "\n",
    "  \n",
    "3.4 Choix de cibles et de features\n",
    "\n",
    "Dans cette étape, nous étudions la possibilité de transformation de cibles et de features en se basant sur les analyses exploratoires\n",
    "\n",
    "  \n",
    "\n",
    "\n",
    "**4.   Préparer les données pour la modélisation**\n",
    "\n",
    "Ecrire des fonctions pour nettoyer et transformer les données\n",
    "\n",
    "4.1 Cleaning\n",
    "\n",
    "> 4.1.1 Gestion d'outliers\n",
    "\n",
    "> 4.1.2 Recoder les Nan\n",
    "\n",
    "4.2 Sélection de features\n",
    "\n",
    "4.3 Feature engineering\n",
    "\n",
    "> 4.3.1 Recodage de relevés de consommation en variables qualitatives (utilisation (oui/non) de certain type d'énergie et proportion de la consommation totale)\n",
    "\n",
    "> 4.3.2 Transformations de variables (log, sqrt, x^2)\n",
    "\n",
    "> 4.3.3 Agrégation de features \n",
    "- Création de Source - site ratio\n",
    "- Création de Proportion de surface de bâtiment de la surface totale\n",
    "\n",
    "> 4.3.4 Standardisation \n",
    "\n",
    "---------------------------------------------------------------------------------------------------------------\n",
    "**NOTEBOOK 2 - SEA Building Energy Benchmarking - Modélisation**\n",
    "\n",
    "**5.   Trouver des modèles pertinents**\n",
    "\n",
    "**A - Modélisation d'émissions de CO2**\n",
    "\n",
    "**B - Modélisation de la consommation totale**\n",
    "\n",
    "5.1 Entraîner plusieurs modèles : \n",
    "\n",
    "> 5.1.1 Régression linéaire \n",
    "\n",
    "> 5.1.2 Arbres de décision\n",
    "\n",
    "> 5.1.3 Forêts aléatoires\n",
    "\n",
    "\n",
    "5.2 Mesurer et comparer leur pertinence - validation croisée\n",
    "\n",
    "5.3 Analyser variables les plus importantes pour chaque algorithme\n",
    "\n",
    "5.4 Analyser le type d'erreur pour chaque modèle\n",
    "\n",
    "5.5 Choisir les modèles les plus pertinents\n",
    "\n",
    "\n",
    "**6.   Finaliser les modèles**\n",
    "\n",
    "**A - Modélisation d'émissions de CO2**\n",
    "\n",
    "6.1 A Ajustement de paramètres \n",
    "\n",
    "Nous allons optimiser les hyperparamètres de la régression linéaire :\n",
    "\n",
    ">  - Ridge\n",
    "\n",
    ">  - Lasso\n",
    "\n",
    ">  - Elastic net\n",
    "\n",
    "6.2 A Méthodes ensemblistes \n",
    "\n",
    "Nous allons utiliser le bagging afin de générer plusieurs modèles à l'aide d'échantillonnage de nos données et à la fin rendre les modèles plus robustes grâce à leur agrégation.\n",
    "\n",
    "6.3 A Mesurer les performances de modèle final\n",
    "\n",
    "Nous allons étudier la précision de modèle final à l'aide de données test.\n",
    "\n",
    "\n",
    "**B - Modélisation de la consommation totale**\n",
    "\n",
    "6.1 B Ajustement de paramètres\n",
    "\n",
    "Nous allons rechercher les meilleurs hyperparamètres pour la construction d'une forêt aléatoire grâce à la recherche sur grille. Nous allons ainsi déterminer le nombre optimal d'arbres, le nombre optimal de features qui rentrent dans le modèle et justifier l'utilisation de bootstrap.\n",
    "\n",
    "6.2 B Mesurer les performances de modèle final\n",
    "\n",
    "Idem comme 6.3 A\n",
    "\n",
    "**7.   Evaluer l'intérêt d'ENERGY STAR Score** \n",
    "\n",
    "Nous allons étudier l'importance de feature ENERGY STAR Score dans la prédiction d'émissions de CO2 de bâtiment.\n",
    "\n",
    "----------------------------------------------------------------------------------------------------------------------\n",
    "**PRESENTATION - Anticiper les besoins en consommation électrique de bâtiments**\n",
    "\n",
    "**8.   Présenter la solution**\n"
   ]
  },
  {
   "cell_type": "markdown",
   "metadata": {},
   "source": [
    "# 0 - Charger les bibliothèques et les données"
   ]
  },
  {
   "cell_type": "code",
   "execution_count": 1,
   "metadata": {},
   "outputs": [],
   "source": [
    "#Importer les bibliothèques pour le traitement de données\n",
    "import numpy as np\n",
    "import pandas as pd\n",
    "from pandas import Series,DataFrame\n",
    "\n",
    "#Importer les bibliothèques pour la visualisation\n",
    "import matplotlib.pyplot as plt\n",
    "import seaborn as sns\n",
    "sns.set_style('whitegrid')\n",
    "%matplotlib inline\n",
    "from IPython.core.display import display, HTML\n",
    "\n",
    "#Importer les bibliothèques pour les statistiques\n",
    "from scipy import stats\n",
    "from scipy.stats.stats import pearsonr\n",
    "\n",
    "#Importer les bibliothèques de machine learning\n",
    "from sklearn import model_selection\n",
    "from sklearn.linear_model import LinearRegression\n",
    "from sklearn.metrics import mean_squared_error\n",
    "\n",
    "\n",
    "#Importer les bibliothèques pour la visualisation géographique\n",
    "import geopandas as gpd\n",
    "import folium\n",
    "\n",
    "#Importer math\n",
    "\n",
    "import math"
   ]
  },
  {
   "cell_type": "code",
   "execution_count": 2,
   "metadata": {},
   "outputs": [],
   "source": [
    "#Disable warning pour .loc\n",
    "pd.options.mode.chained_assignment = None  # default='warn'"
   ]
  },
  {
   "cell_type": "code",
   "execution_count": 3,
   "metadata": {},
   "outputs": [],
   "source": [
    "data_load = pd.read_csv('Data/data_clean.csv',delimiter='\\t',encoding='utf-8', low_memory=False)"
   ]
  },
  {
   "cell_type": "code",
   "execution_count": 4,
   "metadata": {},
   "outputs": [],
   "source": [
    "data=data_load.copy()"
   ]
  },
  {
   "cell_type": "code",
   "execution_count": 5,
   "metadata": {},
   "outputs": [
    {
     "data": {
      "text/plain": [
       "(1020, 31)"
      ]
     },
     "execution_count": 5,
     "metadata": {},
     "output_type": "execute_result"
    }
   ],
   "source": [
    "data.shape"
   ]
  },
  {
   "cell_type": "markdown",
   "metadata": {},
   "source": [
    "# Récapitulatif de données utilisées dans la modélisation"
   ]
  },
  {
   "cell_type": "markdown",
   "metadata": {},
   "source": [
    "**CIBLES :**\n",
    "\n",
    "**A.) Emissions de CO2**\n",
    "    \n",
    "TotalGHGEmissions_log : transformation log de la variable TotalGHGEmission\n",
    "    \n",
    "**B.) Consommation d'énergie des bâtiments**\n",
    "    \n",
    "SiteEnergyUse(kBtu)_log : transformation log de la variable SiteEnergyUse(kBtu)\n",
    "  \n",
    "    \n",
    "**FEATURES :**\n",
    "\n",
    "- **Age** : variable YearBuilt transformée en âge d'immeuble\n",
    "- **OneBuilding** : Variable qui prend 0 / 1 si le site est composé uniquement d'un immeuble ou non \n",
    "- **PropGFABuilding** : Proportion de la surface prise par un immeuble\n",
    "- **NumberofFloors_cat** : Number of Floors découpé en 4 catégories (0-1, 1-4, 4-10, >10)\n",
    "- **ENERGYSTARScore** : Variable numérique, score de 1 à 100\n",
    "- **ENERGYSTARCertified** : 0 / 1 Si le site était certifié Energy Star \n",
    "- **SteamUse_pct** : Pourcentage d'utilisation de vapeur dans la consommation total d'énergie\n",
    "- **SteamUse** : 0/1 - Site utilise la vapeur comme source d'énergie ou non\n",
    "- **NaturalGas_pct** : Pourcentage d'utilisation de gaz dans la consommation total d'énergie\n",
    "- **NaturalGas** : 0/1 - Site utilise le gaz comme source d'énergie ou non\n",
    "- **LargestPropertyUseTypeGFA_log** : Transformation log de LargestPropertyUseTypeGFA - surface utilisée pour l'activité principale\n",
    "- **RatioSourceSite_sup3** : 0 / 1 si le ratio Source / Site est supérieur à 3\n",
    "- **PrimaryPropertyType** : Recodé en matrice de catégories PrimaryPropertyType => variables 'PrimaryPropertyType_Hotel', 'PrimaryPropertyType_Large Office','PrimaryPropertyType_Mixed Use Property','PrimaryPropertyType_Other','PrimaryPropertyType_Retail Store','PrimaryPropertyType_Small- and Mid-Sized Office','PrimaryPropertyType_Warehouse'\n",
    "- **CouncilDistrictCode** : Recodé en matrice de categories de CouncilDistrictCode => variables 'CouncilDistrictCode_1', 'CouncilDistrictCode_2','CouncilDistrictCode_3', 'CouncilDistrictCode_4','CouncilDistrictCode_5', 'CouncilDistrictCode_6'\n",
    "- **SecondLPT** : 0 / 1 s'il existe un deuxième type d'utilisation de site  \n",
    "- **ThirdLPT** : 0 / 1 s'il existe un troisième type d'utilisation\n",
    "- **Parking** : 0 / 1 si le site dispose d'un parking ou pas\n"
   ]
  },
  {
   "cell_type": "markdown",
   "metadata": {},
   "source": [
    "# 5 -  Trouver des modèles pertinents"
   ]
  },
  {
   "cell_type": "markdown",
   "metadata": {},
   "source": [
    "# A - Modélisation d'émissions de CO2"
   ]
  },
  {
   "cell_type": "markdown",
   "metadata": {},
   "source": [
    "## 5.1 A - Entraîner plusieurs modèles "
   ]
  },
  {
   "cell_type": "markdown",
   "metadata": {},
   "source": [
    "Dans un premier temps, nous allons séparer nos données en cibles et features :"
   ]
  },
  {
   "cell_type": "code",
   "execution_count": 6,
   "metadata": {},
   "outputs": [],
   "source": [
    "y_train_A = data['TotalGHGEmissions_log']"
   ]
  },
  {
   "cell_type": "code",
   "execution_count": 7,
   "metadata": {},
   "outputs": [
    {
     "data": {
      "text/plain": [
       "(1020,)"
      ]
     },
     "execution_count": 7,
     "metadata": {},
     "output_type": "execute_result"
    }
   ],
   "source": [
    "y_train_A.shape"
   ]
  },
  {
   "cell_type": "code",
   "execution_count": 8,
   "metadata": {},
   "outputs": [],
   "source": [
    "X_train_A = data.drop(['Unnamed: 0','TotalGHGEmissions_log'], axis=1)"
   ]
  },
  {
   "cell_type": "code",
   "execution_count": 9,
   "metadata": {},
   "outputs": [
    {
     "data": {
      "text/plain": [
       "(1020, 29)"
      ]
     },
     "execution_count": 9,
     "metadata": {},
     "output_type": "execute_result"
    }
   ],
   "source": [
    "X_train_A.shape"
   ]
  },
  {
   "cell_type": "markdown",
   "metadata": {},
   "source": [
    "Afin d'éviter des manipulations de code répétitives, nous allons construire une classe qui prend en charge trois modèles :\n",
    "\n",
    "1. Régression linéaire\n",
    "2. Arbres de décision\n",
    "3. Forêts aléatoires\n",
    "\n",
    "La classe contient les méthodes suivantes :\n",
    "\n",
    "- getRMSE : Imprime le RMSE du modèle\n",
    "- cross_valid : Imprime les scores, la moyenne et l'écart-type d'une validation croisée. Nous pouvons définir le nombre de folds\n",
    "- features_importance : Imprime la liste de features classées par rapport à leur importance\n",
    "- scatter_residuals : Dessine un graphique de résidus"
   ]
  },
  {
   "cell_type": "code",
   "execution_count": 10,
   "metadata": {},
   "outputs": [],
   "source": [
    "from sklearn.linear_model import LinearRegression\n",
    "from sklearn.tree import DecisionTreeRegressor\n",
    "from sklearn.ensemble import RandomForestRegressor\n",
    "from sklearn.metrics import mean_squared_error\n",
    "from sklearn.model_selection import cross_val_score\n",
    "\n",
    "class Modelisation:\n",
    "    \n",
    "    \"\"\"Classe qui permets de construire 3 modèles de base (régression linéaire, arbres de décision et forêts \n",
    "    aléatoires) et qui contient les méthodes suivantes :\n",
    "    \n",
    "    1. getRMSE : Imprime RMSE du modèle\n",
    "    \n",
    "    2. cross_valid : Imprime scores, moyenne et écart-type d'une validation croisée. Nous povons définir \n",
    "                  le nombre de folds 'cv' que nous souhaitons (5 par défaut)\n",
    "                  \n",
    "    3. features_importance : Imprime la liste de features classées par rapport à leur importance\n",
    "    \n",
    "    4. scatter_residuals : Dessine un graphique de résidus. Nous pouvons définir 'alpha' (0.5 par défaut), \n",
    "                        'xmin' (-4 par défaut) et 'xmax' (4 par défaut).\n",
    "                        \n",
    "    Entrées :\n",
    "    X : matrice de features\n",
    "    y : cible\n",
    "    model : 'lin' / 'tree' / 'forest'\n",
    "    n_estimators : facultatif, 100 par défaut. Il s'agit d'option n_estimators pour forêts aléatoires \n",
    "    \"\"\"\n",
    "   \n",
    "    def __init__(self, X, y, model, n_estimators=100):\n",
    "        self.X = X\n",
    "        self.y = y\n",
    "        self.model = model\n",
    "        self.n_estimators=n_estimators\n",
    "        \n",
    "        if self.model == 'lin':\n",
    "            self.mod = LinearRegression()\n",
    "        elif self.model == 'tree':\n",
    "            self.mod = DecisionTreeRegressor(random_state=42)\n",
    "        else:\n",
    "            self.mod = RandomForestRegressor(n_estimators=self.n_estimators, random_state=42)\n",
    "       \n",
    "        self.mod.fit(self.X, self.y)\n",
    "        self.pred = self.mod.predict(self.X)\n",
    "        self.mse = mean_squared_error(self.y, self.pred)\n",
    "        self.rmse = np.sqrt(self.mse)     \n",
    "        \n",
    "    def getRMSE(self):       \n",
    "        if self.model == 'lin':\n",
    "            print(\"Le modèle linéaire prédit les valeurs avec RMSE =\", round(self.rmse, 4))\n",
    "        elif self.model == 'tree':\n",
    "            print(\"Le modèle arbres de décisions prédit les valeurs avec RMSE =\", round(self.rmse, 4))\n",
    "        else:\n",
    "            print(\"Le modèle forêts aléatoires prédit les valeurs avec RMSE =\", round(self.rmse, 4))\n",
    "            \n",
    "    def cross_valid(self, cv):           \n",
    "        self.cv=cv\n",
    "        scores = cross_val_score(self.mod, self.X, self.y, scoring=\"neg_mean_squared_error\", cv=self.cv)\n",
    "        rmse_scores = np.sqrt(-scores)\n",
    "        print(\"Scores:\", rmse_scores)\n",
    "        print(\"Mean:\", rmse_scores.mean())\n",
    "        print(\"Standard deviation:\", rmse_scores.std())\n",
    "\n",
    "    def features_importance(self):\n",
    "        if self.model == 'lin':\n",
    "            return sorted(zip(self.mod.coef_, self.X.columns), reverse=True)\n",
    "        else:\n",
    "            return sorted(zip(self.mod.feature_importances_, self.X.columns), reverse=True)\n",
    "        \n",
    "    def scatter_residuals(self, alpha=0.2, xmin=-4, xmax=4, n_estimators=100):\n",
    "        self.alpha=alpha\n",
    "        self.xmin=xmin\n",
    "        self.xmax=xmax\n",
    "        self.n_estimators=n_estimators\n",
    "        \n",
    "        # Scatter plot the training data\n",
    "        train = plt.scatter(self.pred,(self.y-self.pred),c='b',alpha=0.2)\n",
    "        \n",
    "        # Plot a horizontal axis line at 0\n",
    "        plt.hlines(y=0,xmin=-4,xmax=4)\n",
    "\n",
    "        #Labels\n",
    "        plt.title('Residual Plots')\n",
    "        plt.xlabel('Prédictions')\n",
    "        plt.ylabel('Résidus')"
   ]
  },
  {
   "cell_type": "markdown",
   "metadata": {},
   "source": [
    "L'évaluation de modèles est basée sur RMSE (Root Mean Square Error) qui est calculée comme la racine de somme des différences entre la prédiction et la vraie valeur au carré divisé par la taille d'échantillon. \n",
    "\n",
    "Tout d'abord, nous allons créer un objet de classe Modelisation pour la régression linéaire :"
   ]
  },
  {
   "cell_type": "code",
   "execution_count": 11,
   "metadata": {},
   "outputs": [],
   "source": [
    "lin = Modelisation(X_train_A, y_train_A, 'lin')"
   ]
  },
  {
   "cell_type": "markdown",
   "metadata": {},
   "source": [
    "Et obtenir le score RMSE :"
   ]
  },
  {
   "cell_type": "code",
   "execution_count": 12,
   "metadata": {},
   "outputs": [
    {
     "name": "stdout",
     "output_type": "stream",
     "text": [
      "Le modèle linéaire prédit les valeurs avec RMSE = 0.114\n"
     ]
    }
   ],
   "source": [
    "lin.getRMSE()"
   ]
  },
  {
   "cell_type": "markdown",
   "metadata": {},
   "source": [
    "Ensuite nous allons entraîner l'objet pour modéliser l'arbre de décisions et également afficher son RMSE :"
   ]
  },
  {
   "cell_type": "code",
   "execution_count": 13,
   "metadata": {},
   "outputs": [],
   "source": [
    "tree = Modelisation(X_train_A, y_train_A, 'tree')"
   ]
  },
  {
   "cell_type": "code",
   "execution_count": 14,
   "metadata": {},
   "outputs": [
    {
     "name": "stdout",
     "output_type": "stream",
     "text": [
      "Le modèle arbres de décisions prédit les valeurs avec RMSE = 0.0\n"
     ]
    }
   ],
   "source": [
    "tree.getRMSE()"
   ]
  },
  {
   "cell_type": "markdown",
   "metadata": {},
   "source": [
    "L'erreur de zéro signifie que la modélisation avec les arbres de décision surapprend les données."
   ]
  },
  {
   "cell_type": "markdown",
   "metadata": {},
   "source": [
    "Finalement, nous allons tester le modèle de forêts aléatoires avec plusieurs nombres d'estimateurs : "
   ]
  },
  {
   "cell_type": "code",
   "execution_count": 15,
   "metadata": {},
   "outputs": [
    {
     "name": "stdout",
     "output_type": "stream",
     "text": [
      "Pour n_estimators= 10\n",
      "Le modèle forêts aléatoires prédit les valeurs avec RMSE = 0.0678\n",
      "Pour n_estimators= 20\n",
      "Le modèle forêts aléatoires prédit les valeurs avec RMSE = 0.0588\n",
      "Pour n_estimators= 30\n",
      "Le modèle forêts aléatoires prédit les valeurs avec RMSE = 0.0567\n",
      "Pour n_estimators= 40\n",
      "Le modèle forêts aléatoires prédit les valeurs avec RMSE = 0.0552\n",
      "Pour n_estimators= 50\n",
      "Le modèle forêts aléatoires prédit les valeurs avec RMSE = 0.054\n",
      "Pour n_estimators= 60\n",
      "Le modèle forêts aléatoires prédit les valeurs avec RMSE = 0.0548\n",
      "Pour n_estimators= 70\n",
      "Le modèle forêts aléatoires prédit les valeurs avec RMSE = 0.0543\n",
      "Pour n_estimators= 80\n",
      "Le modèle forêts aléatoires prédit les valeurs avec RMSE = 0.0537\n",
      "Pour n_estimators= 90\n",
      "Le modèle forêts aléatoires prédit les valeurs avec RMSE = 0.0526\n",
      "Pour n_estimators= 100\n",
      "Le modèle forêts aléatoires prédit les valeurs avec RMSE = 0.0521\n",
      "Pour n_estimators= 110\n",
      "Le modèle forêts aléatoires prédit les valeurs avec RMSE = 0.0517\n",
      "Pour n_estimators= 120\n",
      "Le modèle forêts aléatoires prédit les valeurs avec RMSE = 0.053\n",
      "Pour n_estimators= 130\n",
      "Le modèle forêts aléatoires prédit les valeurs avec RMSE = 0.0519\n",
      "Pour n_estimators= 140\n",
      "Le modèle forêts aléatoires prédit les valeurs avec RMSE = 0.0514\n",
      "Pour n_estimators= 150\n",
      "Le modèle forêts aléatoires prédit les valeurs avec RMSE = 0.0517\n",
      "Pour n_estimators= 160\n",
      "Le modèle forêts aléatoires prédit les valeurs avec RMSE = 0.0515\n",
      "Pour n_estimators= 170\n",
      "Le modèle forêts aléatoires prédit les valeurs avec RMSE = 0.0516\n",
      "Pour n_estimators= 180\n",
      "Le modèle forêts aléatoires prédit les valeurs avec RMSE = 0.0515\n",
      "Pour n_estimators= 190\n",
      "Le modèle forêts aléatoires prédit les valeurs avec RMSE = 0.0517\n"
     ]
    }
   ],
   "source": [
    "for i in range (10, 200, 10):\n",
    "    \n",
    "    forest = Modelisation(X_train_A, y_train_A, 'forest', n_estimators=i)\n",
    "    print(\"Pour n_estimators=\", i)\n",
    "    forest.getRMSE()\n",
    "  \n",
    "    "
   ]
  },
  {
   "cell_type": "markdown",
   "metadata": {},
   "source": [
    "Nous pouvons voir que à partir de 110 estimateurs, le RMSE n'a plus de tendance de baisser. Nous allons donc utiliser 110 estimateurs qui nous paraît comme un bon compromis entre la qualité du modèle et le temps de calcul."
   ]
  },
  {
   "cell_type": "code",
   "execution_count": 16,
   "metadata": {},
   "outputs": [],
   "source": [
    " forest = Modelisation(X_train_A, y_train_A, 'forest', n_estimators=110)"
   ]
  },
  {
   "cell_type": "code",
   "execution_count": 160,
   "metadata": {},
   "outputs": [
    {
     "name": "stdout",
     "output_type": "stream",
     "text": [
      "Le modèle forêts aléatoires prédit les valeurs avec RMSE = 0.0517\n"
     ]
    }
   ],
   "source": [
    "forest.getRMSE()"
   ]
  },
  {
   "cell_type": "markdown",
   "metadata": {},
   "source": [
    "## 5.2 A Validation croisée "
   ]
  },
  {
   "cell_type": "markdown",
   "metadata": {},
   "source": [
    "Nous allons afficher les scores, la moyenne et l'écart-type d'une validation croisée de la régression linéaire en 5 folds :"
   ]
  },
  {
   "cell_type": "code",
   "execution_count": 17,
   "metadata": {
    "scrolled": true
   },
   "outputs": [
    {
     "name": "stdout",
     "output_type": "stream",
     "text": [
      "Scores: [0.09920061 0.17279465 0.09644649 0.09575733 0.11299682]\n",
      "Mean: 0.11543917974842018\n",
      "Standard deviation: 0.029350990513868226\n"
     ]
    }
   ],
   "source": [
    "lin.cross_valid(5)"
   ]
  },
  {
   "cell_type": "markdown",
   "metadata": {},
   "source": [
    "Les arbres de décision :"
   ]
  },
  {
   "cell_type": "code",
   "execution_count": 18,
   "metadata": {
    "scrolled": false
   },
   "outputs": [
    {
     "name": "stdout",
     "output_type": "stream",
     "text": [
      "Scores: [0.1442642  0.212348   0.17158411 0.20950473 0.28139813]\n",
      "Mean: 0.2038198342659867\n",
      "Standard deviation: 0.046280567264547455\n"
     ]
    }
   ],
   "source": [
    "tree.cross_valid(5)"
   ]
  },
  {
   "cell_type": "markdown",
   "metadata": {},
   "source": [
    "Les forêts aléatoires :"
   ]
  },
  {
   "cell_type": "code",
   "execution_count": 19,
   "metadata": {
    "scrolled": true
   },
   "outputs": [
    {
     "name": "stdout",
     "output_type": "stream",
     "text": [
      "Scores: [0.11346023 0.17852191 0.1273948  0.15435533 0.17836767]\n",
      "Mean: 0.15041998906155635\n",
      "Standard deviation: 0.026391141131396713\n"
     ]
    }
   ],
   "source": [
    "forest.cross_valid(5)"
   ]
  },
  {
   "cell_type": "markdown",
   "metadata": {},
   "source": [
    "## 5.3 A Analyser variables les plus importantes pour chaque algorythme "
   ]
  },
  {
   "cell_type": "markdown",
   "metadata": {},
   "source": [
    "Nous allons afficher les features dans l'ordre d'importance pour les trois modèles :"
   ]
  },
  {
   "cell_type": "code",
   "execution_count": 20,
   "metadata": {},
   "outputs": [
    {
     "data": {
      "text/plain": [
       "[(0.8339462023146774, 'SiteEnergyUse(kBtu)_log'),\n",
       " (0.3288778301296, 'NaturalGas(kBtu)_pct'),\n",
       " (0.14317856353939687, 'SteamUse(kBtu)_pct'),\n",
       " (0.12793054864654965, 'SteamUse'),\n",
       " (0.05633762873653786, 'PrimaryPropertyType_Hotel'),\n",
       " (0.0472144808213714, 'PrimaryPropertyType_Other'),\n",
       " (0.04565591210627759, 'PrimaryPropertyType_Mixed Use Property'),\n",
       " (0.04005133697505353, 'LargestPropertyUseTypeGFA_log'),\n",
       " (0.03452119778312262, 'NaturalGas'),\n",
       " (0.025962498464674997, 'PrimaryPropertyType_Small- and Mid-Sized Office'),\n",
       " (0.02366102746656544, 'PrimaryPropertyType_Retail Store'),\n",
       " (0.02151511930992094, 'PrimaryPropertyType_Warehouse'),\n",
       " (0.018250114437602848, 'SecondLPT'),\n",
       " (0.008237067888531938, 'OneBuilding'),\n",
       " (0.00646176790042592, 'CouncilDistrictCode_3'),\n",
       " (0.0030596006792095354, 'PrimaryPropertyType_Large Office'),\n",
       " (0.0020591025678159507, 'ThirdLPT'),\n",
       " (-0.0006313357029867304, 'NumberofFloors_cat'),\n",
       " (-0.0014109114697492323, 'PropGFABuilding'),\n",
       " (-0.009467058806283023, 'ENERGYSTARCertified'),\n",
       " (-0.0103400593719947, 'ENERGYSTARScore'),\n",
       " (-0.014423959239697939, 'CouncilDistrictCode_5'),\n",
       " (-0.015946601008745065, 'Age'),\n",
       " (-0.019509984071746565, 'Parking'),\n",
       " (-0.01963011919635073, 'CouncilDistrictCode_6'),\n",
       " (-0.025473308735482637, 'CouncilDistrictCode_1'),\n",
       " (-0.02589631537870211, 'CouncilDistrictCode_4'),\n",
       " (-0.046910667166975895, 'CouncilDistrictCode_2'),\n",
       " (-0.25213370962006426, 'RatioSourceSite_sup3')]"
      ]
     },
     "execution_count": 20,
     "metadata": {},
     "output_type": "execute_result"
    }
   ],
   "source": [
    "#Régression linéaire :\n",
    "lin.features_importance()"
   ]
  },
  {
   "cell_type": "code",
   "execution_count": 21,
   "metadata": {},
   "outputs": [
    {
     "data": {
      "text/plain": [
       "[(0.7584113032709011, 'SiteEnergyUse(kBtu)_log'),\n",
       " (0.18689731446718105, 'RatioSourceSite_sup3'),\n",
       " (0.03335950070661035, 'NaturalGas(kBtu)_pct'),\n",
       " (0.009794448825934778, 'SteamUse(kBtu)_pct'),\n",
       " (0.004440192015327436, 'ENERGYSTARScore'),\n",
       " (0.0015098269736062125, 'LargestPropertyUseTypeGFA_log'),\n",
       " (0.001360882381332228, 'NaturalGas'),\n",
       " (0.0008098302060751561, 'CouncilDistrictCode_3'),\n",
       " (0.0008039246118581109, 'Age'),\n",
       " (0.0007249427914941243, 'PrimaryPropertyType_Mixed Use Property'),\n",
       " (0.0005202097285410493, 'SecondLPT'),\n",
       " (0.00042660774989620374, 'CouncilDistrictCode_4'),\n",
       " (0.00018891847359198485, 'SteamUse'),\n",
       " (0.0001812951645774466, 'NumberofFloors_cat'),\n",
       " (0.0001354313093065232, 'ThirdLPT'),\n",
       " (0.00013132763193771758, 'PropGFABuilding'),\n",
       " (7.968455812912388e-05, 'Parking'),\n",
       " (6.343691723158176e-05, 'ENERGYSTARCertified'),\n",
       " (4.480023031147474e-05, 'PrimaryPropertyType_Other'),\n",
       " (2.784970862850986e-05, 'CouncilDistrictCode_2'),\n",
       " (2.0172921993900842e-05, 'CouncilDistrictCode_5'),\n",
       " (1.822160570176254e-05, 'CouncilDistrictCode_6'),\n",
       " (1.2368036510279803e-05, 'PrimaryPropertyType_Retail Store'),\n",
       " (1.1834851856915638e-05, 'OneBuilding'),\n",
       " (8.632086155991878e-06, 'PrimaryPropertyType_Warehouse'),\n",
       " (7.648083836248767e-06, 'PrimaryPropertyType_Large Office'),\n",
       " (6.245190536503105e-06, 'PrimaryPropertyType_Small- and Mid-Sized Office'),\n",
       " (2.513480521765046e-06, 'CouncilDistrictCode_1'),\n",
       " (6.36020414325853e-07, 'PrimaryPropertyType_Hotel')]"
      ]
     },
     "execution_count": 21,
     "metadata": {},
     "output_type": "execute_result"
    }
   ],
   "source": [
    "#Arbres de décision :\n",
    "tree.features_importance()"
   ]
  },
  {
   "cell_type": "code",
   "execution_count": 22,
   "metadata": {},
   "outputs": [
    {
     "data": {
      "text/plain": [
       "[(0.7805785514625411, 'SiteEnergyUse(kBtu)_log'),\n",
       " (0.12462414643144196, 'RatioSourceSite_sup3'),\n",
       " (0.07281591541419627, 'NaturalGas(kBtu)_pct'),\n",
       " (0.009207465471741175, 'SteamUse(kBtu)_pct'),\n",
       " (0.002921513999743816, 'ENERGYSTARScore'),\n",
       " (0.0019957214368804183, 'LargestPropertyUseTypeGFA_log'),\n",
       " (0.0018936979661684785, 'SteamUse'),\n",
       " (0.0016944412277484328, 'Age'),\n",
       " (0.0005378039747534338, 'NaturalGas'),\n",
       " (0.00041141643990868083, 'CouncilDistrictCode_3'),\n",
       " (0.0003966040487659327, 'PropGFABuilding'),\n",
       " (0.0003962258017216338, 'PrimaryPropertyType_Large Office'),\n",
       " (0.00035690877782910036, 'NumberofFloors_cat'),\n",
       " (0.00026814270591943827, 'PrimaryPropertyType_Other'),\n",
       " (0.000263560383409711, 'CouncilDistrictCode_2'),\n",
       " (0.00023236084643604225, 'CouncilDistrictCode_4'),\n",
       " (0.00022174560946870827, 'SecondLPT'),\n",
       " (0.00021874275833309032, 'PrimaryPropertyType_Mixed Use Property'),\n",
       " (0.0001904422937616164, 'ThirdLPT'),\n",
       " (0.0001611988782129696, 'OneBuilding'),\n",
       " (0.00012300941675983342, 'Parking'),\n",
       " (0.00010967080735720295, 'ENERGYSTARCertified'),\n",
       " (8.811468398963517e-05, 'PrimaryPropertyType_Hotel'),\n",
       " (7.259328325281418e-05, 'PrimaryPropertyType_Small- and Mid-Sized Office'),\n",
       " (5.599446915656778e-05, 'PrimaryPropertyType_Retail Store'),\n",
       " (4.921649631944959e-05, 'CouncilDistrictCode_6'),\n",
       " (4.067278265617866e-05, 'CouncilDistrictCode_5'),\n",
       " (4.000210830373962e-05, 'PrimaryPropertyType_Warehouse'),\n",
       " (3.412002322255731e-05, 'CouncilDistrictCode_1')]"
      ]
     },
     "execution_count": 22,
     "metadata": {},
     "output_type": "execute_result"
    }
   ],
   "source": [
    "#Forêts aléatoires :\n",
    "forest.features_importance()"
   ]
  },
  {
   "cell_type": "markdown",
   "metadata": {},
   "source": [
    "Nous pouvons voir que la consommation d'énergie, le ratio source / site, pourcentage d'utilisation de gas et de vapeur, ainsi que la surface de bâtiment jouent un rôle important dans les trois modèles."
   ]
  },
  {
   "cell_type": "markdown",
   "metadata": {},
   "source": [
    "## 5.4 A Analyser le type d'erreur pour chaque modèle"
   ]
  },
  {
   "cell_type": "markdown",
   "metadata": {},
   "source": [
    "Nous allons visualiser les erreurs pour chaque modèle :"
   ]
  },
  {
   "cell_type": "code",
   "execution_count": 23,
   "metadata": {
    "scrolled": true
   },
   "outputs": [
    {
     "data": {
      "image/png": "[encoded data removed]",
      "text/plain": [
       "<Figure size 432x288 with 1 Axes>"
      ]
     },
     "metadata": {
      "needs_background": "light"
     },
     "output_type": "display_data"
    }
   ],
   "source": [
    "#Régression linéaire :\n",
    "lin.scatter_residuals()"
   ]
  },
  {
   "cell_type": "markdown",
   "metadata": {},
   "source": [
    "Les résidus de régression linéaire ont une certaine tendance quandratique, notamment pour les prédictions qui sont petites."
   ]
  },
  {
   "cell_type": "code",
   "execution_count": 24,
   "metadata": {},
   "outputs": [
    {
     "data": {
      "image/png": "[encoded data removed]",
      "text/plain": [
       "<Figure size 432x288 with 1 Axes>"
      ]
     },
     "metadata": {
      "needs_background": "light"
     },
     "output_type": "display_data"
    }
   ],
   "source": [
    "#Arbres de décision :\n",
    "tree.scatter_residuals()"
   ]
  },
  {
   "cell_type": "markdown",
   "metadata": {},
   "source": [
    "Le modèle d'arbres de décisions a une tendance à overfitter les données - toutes les erreus sont serrées autour de 0."
   ]
  },
  {
   "cell_type": "code",
   "execution_count": 25,
   "metadata": {},
   "outputs": [
    {
     "data": {
      "image/png": "[encoded data removed]",
      "text/plain": [
       "<Figure size 432x288 with 1 Axes>"
      ]
     },
     "metadata": {
      "needs_background": "light"
     },
     "output_type": "display_data"
    }
   ],
   "source": [
    "#Forêts aléatoires\n",
    "forest.scatter_residuals()"
   ]
  },
  {
   "cell_type": "markdown",
   "metadata": {},
   "source": [
    "Les erreus de forêts aléatoires sont correctement réparties d'une manière aléatoire autour de 0."
   ]
  },
  {
   "cell_type": "markdown",
   "metadata": {},
   "source": [
    "## 5.5 A Choix de modèles "
   ]
  },
  {
   "cell_type": "markdown",
   "metadata": {},
   "source": [
    "Pour choisir le modèle final, voici le résumé de RMSE moyen de validation croisée :\n",
    "\n",
    "> Régression linéaire : RMSE = 0.1154 \n",
    "\n",
    "> Arbre de décisions : RMSE = 0.2038\n",
    "\n",
    "> Forêt aléatoire : RMSE = 0.1504\n",
    "\n",
    "\n",
    "Pour la partie A du projet, nous avons décidé de choisir le modèle strictement par rapport au meilleur RMSE. Nous allons donc finaliser le modèle de régression linéaire avec toutes les features.\n",
    "\n",
    "Dans la partie suivante (6), nous allons finaliser le modèle avec une régression Ridge, Lasso et Elastic Net. La régression Lasso nous permettra éventuellement éliminer les features qui ne sont pas pertinentes dans la modélisation."
   ]
  },
  {
   "cell_type": "markdown",
   "metadata": {},
   "source": [
    "# B - Modélisation de la consommation d'énergie"
   ]
  },
  {
   "cell_type": "markdown",
   "metadata": {},
   "source": [
    "Dans un premier temps, nous allons préparer les données :"
   ]
  },
  {
   "cell_type": "code",
   "execution_count": 26,
   "metadata": {},
   "outputs": [],
   "source": [
    "y_train_B = data['SiteEnergyUse(kBtu)_log']"
   ]
  },
  {
   "cell_type": "code",
   "execution_count": 27,
   "metadata": {},
   "outputs": [
    {
     "data": {
      "text/plain": [
       "(1020,)"
      ]
     },
     "execution_count": 27,
     "metadata": {},
     "output_type": "execute_result"
    }
   ],
   "source": [
    "y_train_B.shape"
   ]
  },
  {
   "cell_type": "code",
   "execution_count": 28,
   "metadata": {},
   "outputs": [],
   "source": [
    "X_train_B = data.drop(['Unnamed: 0','SiteEnergyUse(kBtu)_log'], axis=1)"
   ]
  },
  {
   "cell_type": "code",
   "execution_count": 29,
   "metadata": {},
   "outputs": [
    {
     "data": {
      "text/plain": [
       "(1020, 29)"
      ]
     },
     "execution_count": 29,
     "metadata": {},
     "output_type": "execute_result"
    }
   ],
   "source": [
    "X_train_B.shape"
   ]
  },
  {
   "cell_type": "markdown",
   "metadata": {},
   "source": [
    "## 5.1 B Entraîner plusieurs modèles"
   ]
  },
  {
   "cell_type": "code",
   "execution_count": 30,
   "metadata": {},
   "outputs": [],
   "source": [
    "linB = Modelisation(X_train_B, y_train_B, 'lin')"
   ]
  },
  {
   "cell_type": "markdown",
   "metadata": {},
   "source": [
    "Et obtenir le score RMSE :"
   ]
  },
  {
   "cell_type": "code",
   "execution_count": 31,
   "metadata": {},
   "outputs": [
    {
     "name": "stdout",
     "output_type": "stream",
     "text": [
      "Le modèle linéaire prédit les valeurs avec RMSE = 0.132\n"
     ]
    }
   ],
   "source": [
    "linB.getRMSE()"
   ]
  },
  {
   "cell_type": "markdown",
   "metadata": {},
   "source": [
    "Ensuite nous allons entraîner l'objet pour modéliser l'arbre de décisions et également afficher son RMSE :"
   ]
  },
  {
   "cell_type": "code",
   "execution_count": 32,
   "metadata": {},
   "outputs": [],
   "source": [
    "treeB = Modelisation(X_train_B, y_train_B, 'tree')"
   ]
  },
  {
   "cell_type": "code",
   "execution_count": 33,
   "metadata": {},
   "outputs": [
    {
     "name": "stdout",
     "output_type": "stream",
     "text": [
      "Le modèle arbres de décisions prédit les valeurs avec RMSE = 0.0\n"
     ]
    }
   ],
   "source": [
    "treeB.getRMSE()"
   ]
  },
  {
   "cell_type": "markdown",
   "metadata": {},
   "source": [
    "L'erreur de zéro signifie que la modélisation avec les arbres de décision surapprend les données."
   ]
  },
  {
   "cell_type": "markdown",
   "metadata": {},
   "source": [
    "Finalement, nous allons tester le modèle de forêts aléatoires avec plusieurs nombres d'estimateurs : "
   ]
  },
  {
   "cell_type": "code",
   "execution_count": 34,
   "metadata": {},
   "outputs": [
    {
     "name": "stdout",
     "output_type": "stream",
     "text": [
      "Pour n_estimators= 10\n",
      "Le modèle forêts aléatoires prédit les valeurs avec RMSE = 0.0768\n",
      "Pour n_estimators= 20\n",
      "Le modèle forêts aléatoires prédit les valeurs avec RMSE = 0.0679\n",
      "Pour n_estimators= 30\n",
      "Le modèle forêts aléatoires prédit les valeurs avec RMSE = 0.0647\n",
      "Pour n_estimators= 40\n",
      "Le modèle forêts aléatoires prédit les valeurs avec RMSE = 0.0622\n",
      "Pour n_estimators= 50\n",
      "Le modèle forêts aléatoires prédit les valeurs avec RMSE = 0.0602\n",
      "Pour n_estimators= 60\n",
      "Le modèle forêts aléatoires prédit les valeurs avec RMSE = 0.0604\n",
      "Pour n_estimators= 70\n",
      "Le modèle forêts aléatoires prédit les valeurs avec RMSE = 0.0598\n",
      "Pour n_estimators= 80\n",
      "Le modèle forêts aléatoires prédit les valeurs avec RMSE = 0.0592\n",
      "Pour n_estimators= 90\n",
      "Le modèle forêts aléatoires prédit les valeurs avec RMSE = 0.0578\n",
      "Pour n_estimators= 100\n",
      "Le modèle forêts aléatoires prédit les valeurs avec RMSE = 0.0575\n",
      "Pour n_estimators= 110\n",
      "Le modèle forêts aléatoires prédit les valeurs avec RMSE = 0.0568\n",
      "Pour n_estimators= 120\n",
      "Le modèle forêts aléatoires prédit les valeurs avec RMSE = 0.0577\n",
      "Pour n_estimators= 130\n",
      "Le modèle forêts aléatoires prédit les valeurs avec RMSE = 0.0564\n",
      "Pour n_estimators= 140\n",
      "Le modèle forêts aléatoires prédit les valeurs avec RMSE = 0.0561\n",
      "Pour n_estimators= 150\n",
      "Le modèle forêts aléatoires prédit les valeurs avec RMSE = 0.0566\n",
      "Pour n_estimators= 160\n",
      "Le modèle forêts aléatoires prédit les valeurs avec RMSE = 0.0566\n",
      "Pour n_estimators= 170\n",
      "Le modèle forêts aléatoires prédit les valeurs avec RMSE = 0.0564\n",
      "Pour n_estimators= 180\n",
      "Le modèle forêts aléatoires prédit les valeurs avec RMSE = 0.0565\n",
      "Pour n_estimators= 190\n",
      "Le modèle forêts aléatoires prédit les valeurs avec RMSE = 0.0563\n"
     ]
    }
   ],
   "source": [
    "for i in range (10, 200, 10):\n",
    "    \n",
    "    forestB = Modelisation(X_train_B, y_train_B, 'forest', n_estimators=i)\n",
    "    print(\"Pour n_estimators=\", i)\n",
    "    forestB.getRMSE()\n",
    "  \n",
    "    "
   ]
  },
  {
   "cell_type": "markdown",
   "metadata": {},
   "source": [
    "Nous pouvons voir que à partir de 110 estimateurs, le RMSE n'a plus de tendance de baisser. Nous allons donc utiliser 110 estimateurs qui nous paraît comme un bon compromis entre la qualité du modèle, le temps de calcul est overtfitting de données d'entraînement."
   ]
  },
  {
   "cell_type": "code",
   "execution_count": 35,
   "metadata": {},
   "outputs": [],
   "source": [
    " forestB = Modelisation(X_train_B, y_train_B, 'forest', n_estimators=110)"
   ]
  },
  {
   "cell_type": "markdown",
   "metadata": {},
   "source": [
    "## 5.2 B Validation croisée"
   ]
  },
  {
   "cell_type": "markdown",
   "metadata": {},
   "source": [
    "Nous allons afficher les scores, la moyenne et l'écart-type d'une validation croisée de la régression linéaire en 5 folds :"
   ]
  },
  {
   "cell_type": "code",
   "execution_count": 36,
   "metadata": {
    "scrolled": true
   },
   "outputs": [
    {
     "name": "stdout",
     "output_type": "stream",
     "text": [
      "Scores: [0.12136598 0.19991629 0.10778996 0.11207265 0.12864166]\n",
      "Mean: 0.13395730614652537\n",
      "Standard deviation: 0.0337670049886916\n"
     ]
    }
   ],
   "source": [
    "linB.cross_valid(5)"
   ]
  },
  {
   "cell_type": "markdown",
   "metadata": {},
   "source": [
    "Les arbres de décision :"
   ]
  },
  {
   "cell_type": "code",
   "execution_count": 37,
   "metadata": {
    "scrolled": true
   },
   "outputs": [
    {
     "name": "stdout",
     "output_type": "stream",
     "text": [
      "Scores: [0.20661204 0.25537435 0.1974844  0.19111511 0.22630695]\n",
      "Mean: 0.21537857247772169\n",
      "Standard deviation: 0.023258806738719287\n"
     ]
    }
   ],
   "source": [
    "treeB.cross_valid(5)"
   ]
  },
  {
   "cell_type": "markdown",
   "metadata": {},
   "source": [
    "Les forêts aléatoires :"
   ]
  },
  {
   "cell_type": "code",
   "execution_count": 38,
   "metadata": {
    "scrolled": true
   },
   "outputs": [
    {
     "name": "stdout",
     "output_type": "stream",
     "text": [
      "Scores: [0.14225436 0.19607354 0.13172518 0.13111068 0.19130869]\n",
      "Mean: 0.1584944904402008\n",
      "Standard deviation: 0.029048812982003524\n"
     ]
    }
   ],
   "source": [
    "forestB.cross_valid(5)"
   ]
  },
  {
   "cell_type": "markdown",
   "metadata": {},
   "source": [
    "## 5.3 B Analyser variables les plus importantes"
   ]
  },
  {
   "cell_type": "code",
   "execution_count": 39,
   "metadata": {},
   "outputs": [
    {
     "data": {
      "text/plain": [
       "[(1.117549815615942, 'TotalGHGEmissions_log'),\n",
       " (0.28938640582963354, 'RatioSourceSite_sup3'),\n",
       " (0.04500214080402421, 'CouncilDistrictCode_2'),\n",
       " (0.041664479280602, 'PrimaryPropertyType_Large Office'),\n",
       " (0.03179018908897263, 'CouncilDistrictCode_4'),\n",
       " (0.030690864973026373, 'CouncilDistrictCode_1'),\n",
       " (0.02182756036307274, 'CouncilDistrictCode_6'),\n",
       " (0.02140417673492997, 'PrimaryPropertyType_Retail Store'),\n",
       " (0.02118920638674571, 'PrimaryPropertyType_Mixed Use Property'),\n",
       " (0.01894349468457821, 'CouncilDistrictCode_5'),\n",
       " (0.017837003586173104, 'Parking'),\n",
       " (0.016739296209027196, 'PrimaryPropertyType_Small- and Mid-Sized Office'),\n",
       " (0.013680703831026418, 'ENERGYSTARCertified'),\n",
       " (0.011736698199357808, 'Age'),\n",
       " (0.005040970082128044, 'NumberofFloors_cat'),\n",
       " (0.003065036654236505, 'ThirdLPT'),\n",
       " (0.0021372039989422725, 'LargestPropertyUseTypeGFA_log'),\n",
       " (0.0006906386782254149, 'PropGFABuilding'),\n",
       " (-0.0018458352953860772, 'SecondLPT'),\n",
       " (-0.004953232510014373, 'PrimaryPropertyType_Other'),\n",
       " (-0.005464749749146329, 'ENERGYSTARScore'),\n",
       " (-0.01016783166806351, 'CouncilDistrictCode_3'),\n",
       " (-0.018177968851527383, 'OneBuilding'),\n",
       " (-0.02122445403665764, 'PrimaryPropertyType_Warehouse'),\n",
       " (-0.024029541395425104, 'PrimaryPropertyType_Hotel'),\n",
       " (-0.026720555674816078, 'NaturalGas'),\n",
       " (-0.1317868026670866, 'SteamUse'),\n",
       " (-0.1554713542041481, 'SteamUse(kBtu)_pct'),\n",
       " (-0.35649488746317676, 'NaturalGas(kBtu)_pct')]"
      ]
     },
     "execution_count": 39,
     "metadata": {},
     "output_type": "execute_result"
    }
   ],
   "source": [
    "#Régression linéaire :\n",
    "linB.features_importance()"
   ]
  },
  {
   "cell_type": "code",
   "execution_count": 40,
   "metadata": {},
   "outputs": [
    {
     "data": {
      "text/plain": [
       "[(0.8607545547207484, 'TotalGHGEmissions_log'),\n",
       " (0.07116278940674761, 'NaturalGas(kBtu)_pct'),\n",
       " (0.04705937131861566, 'RatioSourceSite_sup3'),\n",
       " (0.007255565273951463, 'SteamUse(kBtu)_pct'),\n",
       " (0.004652802585729908, 'LargestPropertyUseTypeGFA_log'),\n",
       " (0.004158438044387583, 'Age'),\n",
       " (0.000850200852291217, 'NaturalGas'),\n",
       " (0.0007653344084515886, 'PrimaryPropertyType_Retail Store'),\n",
       " (0.0007467825476501295, 'ENERGYSTARScore'),\n",
       " (0.0007026098517610186, 'NumberofFloors_cat'),\n",
       " (0.00044275079147163866, 'PrimaryPropertyType_Large Office'),\n",
       " (0.000228842762665466, 'SteamUse'),\n",
       " (0.0002242818272280387, 'PrimaryPropertyType_Small- and Mid-Sized Office'),\n",
       " (0.00016590287027317132, 'CouncilDistrictCode_6'),\n",
       " (0.00014333219126665372, 'ENERGYSTARCertified'),\n",
       " (0.00011554956265578386, 'ThirdLPT'),\n",
       " (0.00010678973894337334, 'Parking'),\n",
       " (8.961146317139031e-05, 'CouncilDistrictCode_3'),\n",
       " (6.741738448605311e-05, 'PropGFABuilding'),\n",
       " (6.457501061675564e-05, 'CouncilDistrictCode_4'),\n",
       " (6.173142363382479e-05, 'SecondLPT'),\n",
       " (4.5754423839972636e-05, 'PrimaryPropertyType_Other'),\n",
       " (4.0438501404335404e-05, 'CouncilDistrictCode_1'),\n",
       " (3.561550648113532e-05, 'CouncilDistrictCode_2'),\n",
       " (1.9116787538732227e-05, 'PrimaryPropertyType_Hotel'),\n",
       " (1.7988320927065387e-05, 'CouncilDistrictCode_5'),\n",
       " (1.277967162312421e-05, 'OneBuilding'),\n",
       " (6.408965305506519e-06, 'PrimaryPropertyType_Mixed Use Property'),\n",
       " (2.6637861333191876e-06, 'PrimaryPropertyType_Warehouse')]"
      ]
     },
     "execution_count": 40,
     "metadata": {},
     "output_type": "execute_result"
    }
   ],
   "source": [
    "#Arbres de décision :\n",
    "treeB.features_importance()"
   ]
  },
  {
   "cell_type": "code",
   "execution_count": 41,
   "metadata": {},
   "outputs": [
    {
     "data": {
      "text/plain": [
       "[(0.8407734146624298, 'TotalGHGEmissions_log'),\n",
       " (0.06996900781707427, 'NaturalGas(kBtu)_pct'),\n",
       " (0.03706518327717865, 'LargestPropertyUseTypeGFA_log'),\n",
       " (0.03377967826500783, 'RatioSourceSite_sup3'),\n",
       " (0.004905394837719029, 'SteamUse(kBtu)_pct'),\n",
       " (0.004212463760137445, 'Age'),\n",
       " (0.0035014268082541587, 'ENERGYSTARScore'),\n",
       " (0.0007979453499010428, 'SteamUse'),\n",
       " (0.0005566594933357293, 'NumberofFloors_cat'),\n",
       " (0.0005475073257668111, 'PropGFABuilding'),\n",
       " (0.0004994747560276178, 'PrimaryPropertyType_Retail Store'),\n",
       " (0.0004529693018516301, 'PrimaryPropertyType_Small- and Mid-Sized Office'),\n",
       " (0.00032892794397390384, 'PrimaryPropertyType_Large Office'),\n",
       " (0.00029098136758366294, 'SecondLPT'),\n",
       " (0.00028937527831472264, 'CouncilDistrictCode_3'),\n",
       " (0.0002761186171476886, 'NaturalGas'),\n",
       " (0.0002475856774483415, 'PrimaryPropertyType_Other'),\n",
       " (0.00022357405264425713, 'CouncilDistrictCode_4'),\n",
       " (0.00022026285481852717, 'CouncilDistrictCode_2'),\n",
       " (0.0001748397589140052, 'PrimaryPropertyType_Mixed Use Property'),\n",
       " (0.00013495579461119184, 'CouncilDistrictCode_6'),\n",
       " (0.00012129068977445194, 'ThirdLPT'),\n",
       " (0.00012007576339657067, 'Parking'),\n",
       " (0.00011204585902503889, 'ENERGYSTARCertified'),\n",
       " (0.00011096228470723679, 'PrimaryPropertyType_Hotel'),\n",
       " (0.0001104086503580672, 'PrimaryPropertyType_Warehouse'),\n",
       " (7.251305648254351e-05, 'OneBuilding'),\n",
       " (5.72685642070632e-05, 'CouncilDistrictCode_5'),\n",
       " (4.768813190855458e-05, 'CouncilDistrictCode_1')]"
      ]
     },
     "execution_count": 41,
     "metadata": {},
     "output_type": "execute_result"
    }
   ],
   "source": [
    "#Forêts aléatoires :\n",
    "forestB.features_importance()"
   ]
  },
  {
   "cell_type": "markdown",
   "metadata": {},
   "source": [
    "## 5.4 B Analyser l'erreur pour chaque modèle"
   ]
  },
  {
   "cell_type": "code",
   "execution_count": 42,
   "metadata": {
    "scrolled": true
   },
   "outputs": [
    {
     "data": {
      "image/png": "[encoded data removed]",
      "text/plain": [
       "<Figure size 432x288 with 1 Axes>"
      ]
     },
     "metadata": {
      "needs_background": "light"
     },
     "output_type": "display_data"
    }
   ],
   "source": [
    "#Régression linéaire :\n",
    "linB.scatter_residuals()"
   ]
  },
  {
   "cell_type": "markdown",
   "metadata": {},
   "source": [
    "Les résidus de régression linéaire ont une certaine tendance quandratique, notamment pour les prédictions qui sont petites."
   ]
  },
  {
   "cell_type": "code",
   "execution_count": 43,
   "metadata": {},
   "outputs": [
    {
     "data": {
      "image/png": "[encoded data removed]",
      "text/plain": [
       "<Figure size 432x288 with 1 Axes>"
      ]
     },
     "metadata": {
      "needs_background": "light"
     },
     "output_type": "display_data"
    }
   ],
   "source": [
    "#Arbres de décision :\n",
    "treeB.scatter_residuals()"
   ]
  },
  {
   "cell_type": "markdown",
   "metadata": {},
   "source": [
    "Le modèle d'arbres de décisions a une tendance à overfitter les données - toutes les erreus sont serrées autour de 0."
   ]
  },
  {
   "cell_type": "code",
   "execution_count": 44,
   "metadata": {},
   "outputs": [
    {
     "data": {
      "image/png": "[encoded data removed]",
      "text/plain": [
       "<Figure size 432x288 with 1 Axes>"
      ]
     },
     "metadata": {
      "needs_background": "light"
     },
     "output_type": "display_data"
    }
   ],
   "source": [
    "#Forêts aléatoires\n",
    "forestB.scatter_residuals()"
   ]
  },
  {
   "cell_type": "markdown",
   "metadata": {},
   "source": [
    "Les résidus de forêt aléatoire sont répartis d'une façon aléatoire autour de zéro."
   ]
  },
  {
   "cell_type": "markdown",
   "metadata": {},
   "source": [
    "## 5.5 B Choix de modèles"
   ]
  },
  {
   "cell_type": "markdown",
   "metadata": {},
   "source": [
    "Pour choisir le modèle final, voici le résumé de RMSE moyen de validation croisée :\n",
    "\n",
    "> Régression linéaire : RMSE = 0.1340\n",
    "\n",
    "> Arbre de décisions : RMSE = 0.2154\n",
    "\n",
    "> Forêt aléatoire : RMSE = 0.1585\n",
    "\n",
    "\n",
    "Le score RMSE de la régression linéaire est le meilleur des trois modèles, mais il est seulement légèrement inférieur que celui de forêt aléatoire. Pour des raisons pédagogiques, nous allons donc opter pour le modèle de forêts aléatoire dans cette partie du projet."
   ]
  },
  {
   "cell_type": "markdown",
   "metadata": {},
   "source": [
    "# 6 Finaliser les modèles"
   ]
  },
  {
   "cell_type": "markdown",
   "metadata": {},
   "source": [
    "# A - Modélisation d'émissions de CO2 avec régression linéaire "
   ]
  },
  {
   "cell_type": "markdown",
   "metadata": {},
   "source": [
    "## 6.1 A Ajustement de paramètres avec validation croisée"
   ]
  },
  {
   "cell_type": "markdown",
   "metadata": {},
   "source": [
    "Dans le chapître 5.5 A, nous avons choisi le modèle à finaliser. Il s'agit d'une régression linéaire, avec toutes les features de base (29 features).\n",
    "\n",
    "Les données d'entraînement :\n",
    "\n",
    "X_train_A\n",
    "y_train_A\n",
    "\n",
    "Nous allons faire un choix de modèle final à l'aide de modules de sci-kit learn qui intégrent la validation croisée. Les modèles que nous allons tester sont les suivants :"
   ]
  },
  {
   "cell_type": "markdown",
   "metadata": {},
   "source": [
    "1. Régression linéaire Ridge\n",
    "2. Régression linéaire Lasso\n",
    "3. Régression linéaire ElasticNet"
   ]
  },
  {
   "cell_type": "markdown",
   "metadata": {},
   "source": [
    "La taille de notre jeu de données d'entraîenement est plutôt faible (1020 observations dans jeu de données d'entraînement), nous allons faire la validation croisée en 5 folds.\n",
    "\n",
    "Pour tous les modèles, nous allons tester les paramètres alpha proposés par défaut par l'algorithmes."
   ]
  },
  {
   "cell_type": "markdown",
   "metadata": {},
   "source": [
    "Nous allons utiliser la fonction suivante qui nous permets de créer une liste qui contient MSE, RMSE et R2 pour chaque modèle :"
   ]
  },
  {
   "cell_type": "code",
   "execution_count": 45,
   "metadata": {},
   "outputs": [],
   "source": [
    "def testing_models(model, X, y):\n",
    "    \n",
    "    \"\"\"Fonction qui prend comme argument un modèle et renvoi une liste de scores : MSE, RMSE, et R2\n",
    "    \n",
    "    Arguments :\n",
    "    - model: définition d'un des modèles de sci-kit learn, exemple : RidgeCV\n",
    "    - X: matrice de features\n",
    "    - y: cible\n",
    "    \n",
    "    Sortie :\n",
    "    \n",
    "    - Une liste contenant le score MSE, RMSE et R2 \n",
    "    \n",
    "    \"\"\"\n",
    "    \n",
    "    mod = model\n",
    "    mod.fit(X, y)\n",
    "    pred = mod.predict(X)\n",
    "    mse = round(mean_squared_error(y, pred), 5)\n",
    "    rmse = round(np.sqrt(mse), 5)\n",
    "    R2 = round(mod.score(X, y), 5)\n",
    "    scores=list([mse, rmse, R2])\n",
    "    return scores\n",
    "    "
   ]
  },
  {
   "cell_type": "code",
   "execution_count": 163,
   "metadata": {},
   "outputs": [],
   "source": [
    "#Régression Ridge\n",
    "from sklearn.linear_model import RidgeCV\n",
    "rl_ridge = testing_models(RidgeCV(cv=5), X_train_A, y_train_A)"
   ]
  },
  {
   "cell_type": "code",
   "execution_count": 164,
   "metadata": {},
   "outputs": [],
   "source": [
    "#Régression Lasso\n",
    "from sklearn.linear_model import LassoCV\n",
    "rl_lasso = testing_models(LassoCV(cv=5, random_state=42), X_train_A, y_train_A)"
   ]
  },
  {
   "cell_type": "code",
   "execution_count": 165,
   "metadata": {},
   "outputs": [],
   "source": [
    "#ElasticNet\n",
    "from sklearn.linear_model import ElasticNetCV\n",
    "rl_ElasticNet = testing_models(ElasticNetCV(cv=5, random_state=42), X_train_A, y_train_A)"
   ]
  },
  {
   "cell_type": "code",
   "execution_count": 166,
   "metadata": {},
   "outputs": [],
   "source": [
    "scores=DataFrame([rl_ridge, rl_lasso, rl_ElasticNet],\n",
    "                 index=['Régression Ridge', 'Régression Lasso', 'Régression ElasticNet'],\n",
    "                 columns=['MSE', 'RMSE', 'R2'])"
   ]
  },
  {
   "cell_type": "code",
   "execution_count": 167,
   "metadata": {},
   "outputs": [
    {
     "data": {
      "text/html": [
       "<div>\n",
       "<style scoped>\n",
       "    .dataframe tbody tr th:only-of-type {\n",
       "        vertical-align: middle;\n",
       "    }\n",
       "\n",
       "    .dataframe tbody tr th {\n",
       "        vertical-align: top;\n",
       "    }\n",
       "\n",
       "    .dataframe thead th {\n",
       "        text-align: right;\n",
       "    }\n",
       "</style>\n",
       "<table border=\"1\" class=\"dataframe\">\n",
       "  <thead>\n",
       "    <tr style=\"text-align: right;\">\n",
       "      <th></th>\n",
       "      <th>MSE</th>\n",
       "      <th>RMSE</th>\n",
       "      <th>R2</th>\n",
       "    </tr>\n",
       "  </thead>\n",
       "  <tbody>\n",
       "    <tr>\n",
       "      <th>Régression Ridge</th>\n",
       "      <td>0.01300</td>\n",
       "      <td>0.11402</td>\n",
       "      <td>0.98700</td>\n",
       "    </tr>\n",
       "    <tr>\n",
       "      <th>Régression Lasso</th>\n",
       "      <td>0.01319</td>\n",
       "      <td>0.11485</td>\n",
       "      <td>0.98681</td>\n",
       "    </tr>\n",
       "    <tr>\n",
       "      <th>Régression ElasticNet</th>\n",
       "      <td>0.01319</td>\n",
       "      <td>0.11485</td>\n",
       "      <td>0.98681</td>\n",
       "    </tr>\n",
       "  </tbody>\n",
       "</table>\n",
       "</div>"
      ],
      "text/plain": [
       "                           MSE     RMSE       R2\n",
       "Régression Ridge       0.01300  0.11402  0.98700\n",
       "Régression Lasso       0.01319  0.11485  0.98681\n",
       "Régression ElasticNet  0.01319  0.11485  0.98681"
      ]
     },
     "execution_count": 167,
     "metadata": {},
     "output_type": "execute_result"
    }
   ],
   "source": [
    "scores"
   ]
  },
  {
   "cell_type": "markdown",
   "metadata": {},
   "source": [
    "Nous pouvons voir que le modèle de régression polynomiale Ridge de degré 2 a les meilleures performances."
   ]
  },
  {
   "cell_type": "code",
   "execution_count": 169,
   "metadata": {},
   "outputs": [],
   "source": [
    "#Pour visualiser les résidus :\n",
    "mod = RidgeCV(cv=5)\n",
    "mod.fit(X_train_A, y_train_A)\n",
    "pred = mod.predict(X_train_A)"
   ]
  },
  {
   "cell_type": "code",
   "execution_count": 170,
   "metadata": {},
   "outputs": [
    {
     "data": {
      "text/plain": [
       "Text(0, 0.5, 'Résidus')"
      ]
     },
     "execution_count": 170,
     "metadata": {},
     "output_type": "execute_result"
    },
    {
     "data": {
      "image/png": "[encoded data removed]",
      "text/plain": [
       "<Figure size 432x288 with 1 Axes>"
      ]
     },
     "metadata": {
      "needs_background": "light"
     },
     "output_type": "display_data"
    }
   ],
   "source": [
    "train = plt.scatter(pred,(y_train_A-pred),c='b',alpha=0.2)\n",
    "\n",
    "# Plot a horizontal axis line at 0\n",
    "plt.hlines(y=0,xmin=-4,xmax=4)\n",
    "\n",
    "#Labels\n",
    "plt.title('Residual Plots')\n",
    "plt.xlabel('Prédictions')\n",
    "plt.ylabel('Résidus')"
   ]
  },
  {
   "cell_type": "markdown",
   "metadata": {},
   "source": [
    "## 6.2 A Utiliser les méthodes ensemblistes"
   ]
  },
  {
   "cell_type": "markdown",
   "metadata": {},
   "source": [
    "Nous allons utiliser une méthode appelée \"bagging\". Bagging consiste à entraîner notre modèle plusieurs fois sur des échantillons tirés de notre jeu de donné avec remise. A la fin, nous allons générer le modèle final par aggrégation des modèles issues d'échantillonage. Cette technique permets de réduire et les biais et la variance du modèle final.\n",
    "\n",
    "Le code suivant nous permet d'entraîner 500 modèles de régression polynomiale Ridge. Chaque modèle est entaîné sur un jeu de donénes contenant 100 observations tirés avec remplacement.\n",
    "\n",
    "Nous allons calculer le score Out-of-bag. Il s'agit de score de précision qui est calculé sur les données qui ne sont pas tirés pour rentrer dans le modèle. Il nous servent donc comme données \"test\". Etant donné que en moyen seulement à peu près 63 % d'invidus soient tiré pour construire le modèle, le score OOB est calculé sur environ 37% d'individus."
   ]
  },
  {
   "cell_type": "code",
   "execution_count": 171,
   "metadata": {},
   "outputs": [
    {
     "data": {
      "text/plain": [
       "0.9858252392019878"
      ]
     },
     "execution_count": 171,
     "metadata": {},
     "output_type": "execute_result"
    }
   ],
   "source": [
    "from sklearn.ensemble import BaggingRegressor\n",
    "\n",
    "bag = BaggingRegressor(\n",
    "    RidgeCV(), n_estimators=500,\n",
    "    max_samples=100, bootstrap=True, n_jobs=-1, oob_score=True)\n",
    "bag.fit(X_train_A, y_train_A)\n",
    "bag.oob_score_"
   ]
  },
  {
   "cell_type": "markdown",
   "metadata": {},
   "source": [
    "Selon le score Out-of-bag, le modèle va probablement prédire les données test avec une précision de 98.58 %."
   ]
  },
  {
   "cell_type": "markdown",
   "metadata": {},
   "source": [
    "Nous allons également essayer d'évaluer les modèles en tirant aléatoirement les features qui vont servir pour les calculs.  "
   ]
  },
  {
   "cell_type": "code",
   "execution_count": 172,
   "metadata": {},
   "outputs": [
    {
     "data": {
      "text/plain": [
       "0.9466107524830659"
      ]
     },
     "execution_count": 172,
     "metadata": {},
     "output_type": "execute_result"
    }
   ],
   "source": [
    "bag = BaggingRegressor(\n",
    "    RidgeCV(), n_estimators=500,\n",
    "    max_samples=100, bootstrap=True, bootstrap_features=True, n_jobs=-1, oob_score=True)\n",
    "bag.fit(X_train_A, y_train_A)\n",
    "bag.oob_score_"
   ]
  },
  {
   "cell_type": "markdown",
   "metadata": {},
   "source": [
    "Nous avons encore réussi à améliorer le score OOB en ajoutant bootstrap de features. Le OOB est maintenant 94.66% ce qui signifie que les prédiction sur les données test seront fait avec une précision d'environ 95%. "
   ]
  },
  {
   "cell_type": "markdown",
   "metadata": {},
   "source": [
    "## 6.3 A Mesurer les performances de modèle final "
   ]
  },
  {
   "cell_type": "markdown",
   "metadata": {},
   "source": [
    "### 6.3.1 A Préparation de données test pour les analyses"
   ]
  },
  {
   "cell_type": "code",
   "execution_count": 60,
   "metadata": {},
   "outputs": [],
   "source": [
    "data_test_load = pd.read_csv('Data/data_test.csv',delimiter='\\t',encoding='utf-8', low_memory=False)"
   ]
  },
  {
   "cell_type": "code",
   "execution_count": 61,
   "metadata": {},
   "outputs": [],
   "source": [
    "data_test=data_test_load.copy()"
   ]
  },
  {
   "cell_type": "code",
   "execution_count": 62,
   "metadata": {},
   "outputs": [],
   "source": [
    "data_test.drop(['Unnamed: 0'], inplace=True, axis=1)"
   ]
  },
  {
   "cell_type": "markdown",
   "metadata": {},
   "source": [
    "Imputer les NaN :"
   ]
  },
  {
   "cell_type": "code",
   "execution_count": 63,
   "metadata": {},
   "outputs": [],
   "source": [
    "#Test\n",
    "data_test.fillna({'ListOfAllPropertyUseTypes':'None',\n",
    "             'LargestPropertyUseType':'Other',\n",
    "                 'SecondLargestPropertyUseType':'None', \n",
    "                 'SecondLargestPropertyUseTypeGFA':0,\n",
    "                 'ThirdLargestPropertyUseType':'None',\n",
    "                 'ThirdLargestPropertyUseTypeGFA':0,\n",
    "                 'YearsENERGYSTARCertified': 'None',\n",
    "                 'Comments':'None',\n",
    "                 'Outlier': 'None',\n",
    "                }, inplace=True)"
   ]
  },
  {
   "cell_type": "markdown",
   "metadata": {},
   "source": [
    "Séparer les données num et cat :"
   ]
  },
  {
   "cell_type": "code",
   "execution_count": 64,
   "metadata": {},
   "outputs": [],
   "source": [
    "data_test_cat=data_test[['PrimaryPropertyType',\n",
    "           'CouncilDistrictCode', \n",
    "           'Neighborhood', \n",
    "           'ListOfAllPropertyUseTypes',\n",
    "           'SecondLargestPropertyUseType',\n",
    "           'ThirdLargestPropertyUseType', \n",
    "           'YearsENERGYSTARCertified']]"
   ]
  },
  {
   "cell_type": "code",
   "execution_count": 65,
   "metadata": {},
   "outputs": [],
   "source": [
    "#Test\n",
    "data_test_num = data_test[['Latitude', \n",
    "                 'Longitude', \n",
    "                 'YearBuilt', \n",
    "                 'NumberofBuildings',\n",
    "                 'NumberofFloors', \n",
    "                 'PropertyGFATotal', \n",
    "                 'PropertyGFAParking',\n",
    "                 'PropertyGFABuilding(s)', \n",
    "                 'LargestPropertyUseTypeGFA',\n",
    "                 'SecondLargestPropertyUseTypeGFA',\n",
    "                 'ThirdLargestPropertyUseTypeGFA',\n",
    "                 'ENERGYSTARScore', \n",
    "                 'SiteEnergyUse(kBtu)', \n",
    "                 'SteamUse(kBtu)',\n",
    "                 'Electricity(kBtu)', \n",
    "                 'NaturalGas(kBtu)',  \n",
    "                 'TotalGHGEmissions',\n",
    "                 'SourceEUI(kBtu/sf)',\n",
    "                 'SiteEUI(kBtu/sf)']]"
   ]
  },
  {
   "cell_type": "markdown",
   "metadata": {},
   "source": [
    "Utiliser la même imputation comme pour les data train :"
   ]
  },
  {
   "cell_type": "code",
   "execution_count": 66,
   "metadata": {},
   "outputs": [],
   "source": [
    "import joblib"
   ]
  },
  {
   "cell_type": "code",
   "execution_count": 67,
   "metadata": {},
   "outputs": [],
   "source": [
    "imputer = joblib.load(\"imputer.pkl\")"
   ]
  },
  {
   "cell_type": "code",
   "execution_count": 68,
   "metadata": {},
   "outputs": [
    {
     "data": {
      "text/plain": [
       "SimpleImputer(add_indicator=False, copy=True, fill_value=None,\n",
       "              missing_values=nan, strategy='median', verbose=0)"
      ]
     },
     "execution_count": 68,
     "metadata": {},
     "output_type": "execute_result"
    }
   ],
   "source": [
    "imputer"
   ]
  },
  {
   "cell_type": "code",
   "execution_count": 69,
   "metadata": {},
   "outputs": [],
   "source": [
    "#Test\n",
    "imputer.fit(data_test_num)\n",
    "\n",
    "#Test\n",
    "X_test = imputer.transform(data_test_num)\n",
    "\n",
    "#Test\n",
    "data_test_tr = pd.DataFrame(X_test, columns=data_test_num.columns, index=data_test.index)"
   ]
  },
  {
   "cell_type": "code",
   "execution_count": 70,
   "metadata": {},
   "outputs": [],
   "source": [
    "def calcul_proportion(data, var1, var2, var3):\n",
    "    \"\"\"Fonction qui calcule une proportion de 3 variables en % :\n",
    "    \n",
    "    Entrées :\n",
    "        data : DataFrame\n",
    "        var1 : variable numérique - numérateur\n",
    "        var2, var 3 : variables numériques qui servirons pour dénominateur en somme avec var1\n",
    "        \n",
    "    Sortie :\n",
    "        data : DataFrame avec la variable recodée    \n",
    "    \"\"\"\n",
    "    data['temp']=round(data[var1]*100/(data[var1]+data[var2]+data[var3]),2)\n",
    "    \n",
    "    nom = var1 +'_pct' \n",
    "    \n",
    "    data.rename(columns = {'temp':nom}, inplace = True)\n",
    "       \n",
    "    return data"
   ]
  },
  {
   "cell_type": "code",
   "execution_count": 71,
   "metadata": {},
   "outputs": [],
   "source": [
    "data_test_tr = calcul_proportion(data_test_tr, 'SteamUse(kBtu)', 'Electricity(kBtu)', 'NaturalGas(kBtu)')\n",
    "data_test_tr = calcul_proportion(data_test_tr, 'NaturalGas(kBtu)', 'SteamUse(kBtu)', 'Electricity(kBtu)')"
   ]
  },
  {
   "cell_type": "code",
   "execution_count": 72,
   "metadata": {},
   "outputs": [],
   "source": [
    "def transf_binaire(data, cond, nom):\n",
    "    \"\"\"Fonction pour transformer les variables en variables binaires.\n",
    "    \n",
    "    Entrées :\n",
    "        data : DataFrame qui contient la variable d'origine (ex. données quanti)\n",
    "        cond : condition (si vrai, variable binaire = 1)\n",
    "        nom : nom de la nouvelle variable\n",
    "    \n",
    "    Sortie :\n",
    "        data : DataFrame avec la variable recodée nommée avec sufix _bin\n",
    "    \"\"\"\n",
    "       \n",
    "    data[nom]=np.where(cond, 1, 0)\n",
    "       \n",
    "    return data "
   ]
  },
  {
   "cell_type": "code",
   "execution_count": 73,
   "metadata": {},
   "outputs": [],
   "source": [
    "data_test_tr=transf_binaire(data_test_tr, data_test_tr['SteamUse(kBtu)']!=0, 'SteamUse')\n",
    "data_test_tr=transf_binaire(data_test_tr, data_test_tr['NaturalGas(kBtu)']!=0, 'NaturalGas')"
   ]
  },
  {
   "cell_type": "code",
   "execution_count": 74,
   "metadata": {},
   "outputs": [],
   "source": [
    "def transf_binaire_multiclass(data, var):\n",
    "    \"\"\"Fonction pour recoder des variables multiclasse en une variable binaire par classe - 1 (sauf la dernière) :\n",
    "    \n",
    "    Entrées:\n",
    "        data : DataFrame\n",
    "        var : variable à recoder\n",
    "    \n",
    "    Sortie : \n",
    "        data : DataFrame qui contient les variables crées    \n",
    "    \"\"\"\n",
    "    liste = data[var].value_counts().index\n",
    "    liste_srt = liste.sort_values()\n",
    "    \n",
    "    for classe in liste_srt[:-1]:\n",
    "        data['temp']=np.where(data[var]==classe,1,0)\n",
    "        name = var + '_' + str(classe)\n",
    "        data.rename(columns = {'temp':name}, inplace = True)\n",
    "    return data"
   ]
  },
  {
   "cell_type": "code",
   "execution_count": 75,
   "metadata": {},
   "outputs": [],
   "source": [
    "data_test_cat=transf_binaire_multiclass(data_test_cat, 'CouncilDistrictCode')"
   ]
  },
  {
   "cell_type": "code",
   "execution_count": 76,
   "metadata": {},
   "outputs": [],
   "source": [
    "def rec_classe_other(data, liste, var, rec):\n",
    "    \"\"\"Fonction qui va regroupper les classes d'une variable quanlitative qui ne se trouvent pas dans une liste :\n",
    "    \n",
    "    Entrées :\n",
    "    data : DataFrame\n",
    "    liste : une liste de classes à garder\n",
    "    var : variable concernée entre ''\n",
    "    rec : une chaîne de caractères qui indique la nouvelle valeur de classes recodées entre ''\n",
    "    \n",
    "    Sortie :\n",
    "    data : DataFrame avec la variables recodée    \n",
    "    \"\"\"\n",
    "    \n",
    "    data[var] = np.where(data[var].isin(liste), data[var], rec)\n",
    "    \n",
    "    return data"
   ]
  },
  {
   "cell_type": "code",
   "execution_count": 77,
   "metadata": {},
   "outputs": [],
   "source": [
    "list_cat=['Other', 'Small- and Mid-Sized Office', 'Warehouse', 'Large Office',\n",
    "       'Mixed Use Property', 'Retail Store', 'Hotel', 'Worship Facility']"
   ]
  },
  {
   "cell_type": "code",
   "execution_count": 78,
   "metadata": {},
   "outputs": [],
   "source": [
    "data_test_cat = rec_classe_other(data_test_cat, list_cat, 'PrimaryPropertyType', 'Other')"
   ]
  },
  {
   "cell_type": "code",
   "execution_count": 79,
   "metadata": {},
   "outputs": [],
   "source": [
    "data_test_cat=transf_binaire_multiclass(data_test_cat, 'PrimaryPropertyType')"
   ]
  },
  {
   "cell_type": "code",
   "execution_count": 80,
   "metadata": {},
   "outputs": [],
   "source": [
    "#Variable NumberofBuildings\n",
    "data_test_tr=transf_binaire(data_test_tr, data_test_tr['NumberofBuildings']==1, 'OneBuilding')\n",
    "\n",
    "#Variable SecondLargestPropretyUseType\n",
    "data_test_cat=transf_binaire(data_test_cat, data_test_cat['SecondLargestPropertyUseType']!='None', 'SecondLPT')\n",
    "\n",
    "#Variable ThirdLargestPropretyUseType\n",
    "data_test_cat=transf_binaire(data_test_cat, data_test_cat['ThirdLargestPropertyUseType']!='None', 'ThirdLPT')\n",
    "\n",
    "#Variable YearsENERGYSTARCertified\n",
    "data_test_cat=transf_binaire(data_test_cat, data_test_cat['YearsENERGYSTARCertified']!='None', 'ENERGYSTARCertified')\n",
    "\n",
    "#Variable PropertyGFAParking\n",
    "data_test_tr=transf_binaire(data_test_tr, data_test_tr['PropertyGFAParking']!=0, 'Parking')\n",
    "\n",
    "#Variable NumberofFloors\n",
    "data_test_cat[\"NumberofFloors_cat\"] = pd.cut(data_test_tr[\"NumberofFloors\"], bins=[-1, 1, 4, 10, np.inf], labels=[1, 2, 3, 4])"
   ]
  },
  {
   "cell_type": "code",
   "execution_count": 81,
   "metadata": {},
   "outputs": [],
   "source": [
    "def transf_log(data, var):\n",
    "    \"\"\"Fonction qui transforme les variables numériques en log :\n",
    "    \n",
    "    Entrées :\n",
    "        data : DataFrame\n",
    "        var : variable numérique à transformer\n",
    "        \n",
    "    Sortie :\n",
    "        data : DataFrame avec les variables transformées    \n",
    "    \"\"\"\n",
    "    data['temp'] = (data[var]+1).apply(np.log)\n",
    "    \n",
    "    nom = var +'_log' \n",
    "    \n",
    "    data.rename(columns = {'temp':nom}, inplace = True)\n",
    "    \n",
    "    return data  "
   ]
  },
  {
   "cell_type": "code",
   "execution_count": 82,
   "metadata": {},
   "outputs": [],
   "source": [
    "data_test_tr=transf_log(data_test_tr, 'TotalGHGEmissions')\n",
    "data_test_tr=transf_log(data_test_tr, 'LargestPropertyUseTypeGFA')\n",
    "data_test_tr=transf_log(data_test_tr, 'SiteEnergyUse(kBtu)')"
   ]
  },
  {
   "cell_type": "code",
   "execution_count": 83,
   "metadata": {},
   "outputs": [],
   "source": [
    "data_test_tr['Age'] = 2019 - data_test_tr['YearBuilt']"
   ]
  },
  {
   "cell_type": "code",
   "execution_count": 84,
   "metadata": {},
   "outputs": [],
   "source": [
    "#Test\n",
    "data_test_tr['RatioSourceSite']=round(data_test_tr['SourceEUI(kBtu/sf)']/data_test_tr['SiteEUI(kBtu/sf)'], 2)"
   ]
  },
  {
   "cell_type": "code",
   "execution_count": 85,
   "metadata": {},
   "outputs": [],
   "source": [
    "#Test\n",
    "data_test_cat['RatioSourceSite_sup3']=np.where(data_test_tr['RatioSourceSite']>3, 1, 0)"
   ]
  },
  {
   "cell_type": "code",
   "execution_count": 86,
   "metadata": {},
   "outputs": [],
   "source": [
    "#Test\n",
    "data_test_tr['PropGFABuilding']=data_test_tr['PropertyGFABuilding(s)']/data_test_tr['PropertyGFATotal']"
   ]
  },
  {
   "cell_type": "code",
   "execution_count": 87,
   "metadata": {},
   "outputs": [],
   "source": [
    "data_test_std=data_test_tr[['TotalGHGEmissions_log', 'SiteEnergyUse(kBtu)_log', 'Age', 'PropGFABuilding', 'ENERGYSTARScore', \n",
    "                 'SteamUse(kBtu)_pct', 'NaturalGas(kBtu)_pct','LargestPropertyUseTypeGFA_log', 'RatioSourceSite']]"
   ]
  },
  {
   "cell_type": "code",
   "execution_count": 88,
   "metadata": {},
   "outputs": [],
   "source": [
    "data_test_tr.drop(['TotalGHGEmissions_log', 'SiteEnergyUse(kBtu)_log', 'Age', 'PropGFABuilding', 'ENERGYSTARScore', \n",
    "                 'SteamUse(kBtu)_pct', 'NaturalGas(kBtu)_pct','LargestPropertyUseTypeGFA_log', 'RatioSourceSite'], \n",
    "            axis=1, inplace=True)"
   ]
  },
  {
   "cell_type": "code",
   "execution_count": 89,
   "metadata": {},
   "outputs": [],
   "source": [
    "std_scale = joblib.load(\"std_scale.pkl\")"
   ]
  },
  {
   "cell_type": "code",
   "execution_count": 90,
   "metadata": {},
   "outputs": [],
   "source": [
    "#Test\n",
    "data_test_tr_std =std_scale.transform(data_test_std)\n",
    "\n",
    "data_test_tr_std= DataFrame(data_test_tr_std, columns=data_test_std.columns, index=data_test_std.index)"
   ]
  },
  {
   "cell_type": "code",
   "execution_count": 91,
   "metadata": {},
   "outputs": [],
   "source": [
    "data_test_clean = pd.concat([data_test_tr_std, data_test_cat], axis=1)"
   ]
  },
  {
   "cell_type": "code",
   "execution_count": 92,
   "metadata": {},
   "outputs": [],
   "source": [
    "data_test_clean = pd.concat([data_test_clean, data_test_tr], axis=1)"
   ]
  },
  {
   "cell_type": "code",
   "execution_count": 93,
   "metadata": {},
   "outputs": [],
   "source": [
    "data_test_clean=data_test_clean.dropna()"
   ]
  },
  {
   "cell_type": "code",
   "execution_count": 94,
   "metadata": {},
   "outputs": [],
   "source": [
    "data_test_clean.drop(['PrimaryPropertyType', 'CouncilDistrictCode','Neighborhood','ListOfAllPropertyUseTypes',\n",
    "                'SecondLargestPropertyUseType', 'ThirdLargestPropertyUseType',\n",
    "                'YearsENERGYSTARCertified','Latitude', 'Longitude', 'YearBuilt', 'NumberofBuildings',\n",
    "                'NumberofFloors', 'PropertyGFATotal', 'PropertyGFAParking',\n",
    "                'PropertyGFABuilding(s)', 'LargestPropertyUseTypeGFA',\n",
    "                'SecondLargestPropertyUseTypeGFA', 'ThirdLargestPropertyUseTypeGFA',\n",
    "                'SiteEnergyUse(kBtu)', 'SteamUse(kBtu)', 'Electricity(kBtu)',\n",
    "                'NaturalGas(kBtu)', 'TotalGHGEmissions', 'SourceEUI(kBtu/sf)',\n",
    "                'SiteEUI(kBtu/sf)', 'RatioSourceSite'],axis=1, inplace=True)"
   ]
  },
  {
   "cell_type": "code",
   "execution_count": 95,
   "metadata": {},
   "outputs": [],
   "source": [
    "y_test_A = data_test_clean['TotalGHGEmissions_log']"
   ]
  },
  {
   "cell_type": "code",
   "execution_count": 96,
   "metadata": {},
   "outputs": [],
   "source": [
    "X_test_A = data_test_clean.drop(['TotalGHGEmissions_log'], axis=1)"
   ]
  },
  {
   "cell_type": "markdown",
   "metadata": {},
   "source": [
    "### 6.3.2 A Evaluation de modèle"
   ]
  },
  {
   "cell_type": "code",
   "execution_count": 173,
   "metadata": {},
   "outputs": [
    {
     "data": {
      "text/plain": [
       "RidgeCV(alphas=array([ 0.1,  1. , 10. ]), cv=5, fit_intercept=True,\n",
       "        gcv_mode=None, normalize=False, scoring=None, store_cv_values=False)"
      ]
     },
     "execution_count": 173,
     "metadata": {},
     "output_type": "execute_result"
    }
   ],
   "source": [
    "#Modèle final :\n",
    "rp_ridge = RidgeCV(cv=5)\n",
    "rp_ridge.fit(X_train_A, y_train_A)"
   ]
  },
  {
   "cell_type": "code",
   "execution_count": 174,
   "metadata": {},
   "outputs": [],
   "source": [
    "final_pred_A = rp_ridge.predict(X_test_A)"
   ]
  },
  {
   "cell_type": "code",
   "execution_count": 175,
   "metadata": {},
   "outputs": [],
   "source": [
    "final_mse_A = round(mean_squared_error(y_test_A, final_pred_A), 5)\n",
    "final_rmse_A = round(np.sqrt(final_mse_A), 5)\n",
    "final_R2_A = round(rp_ridge.score(X_test_A, y_test_A),5)"
   ]
  },
  {
   "cell_type": "code",
   "execution_count": 176,
   "metadata": {},
   "outputs": [
    {
     "data": {
      "text/plain": [
       "0.00868"
      ]
     },
     "execution_count": 176,
     "metadata": {},
     "output_type": "execute_result"
    }
   ],
   "source": [
    "final_mse_A"
   ]
  },
  {
   "cell_type": "code",
   "execution_count": 177,
   "metadata": {},
   "outputs": [
    {
     "data": {
      "text/plain": [
       "0.09317"
      ]
     },
     "execution_count": 177,
     "metadata": {},
     "output_type": "execute_result"
    }
   ],
   "source": [
    "final_rmse_A"
   ]
  },
  {
   "cell_type": "code",
   "execution_count": 178,
   "metadata": {},
   "outputs": [
    {
     "data": {
      "text/plain": [
       "0.99205"
      ]
     },
     "execution_count": 178,
     "metadata": {},
     "output_type": "execute_result"
    }
   ],
   "source": [
    "final_R2_A"
   ]
  },
  {
   "cell_type": "code",
   "execution_count": 104,
   "metadata": {},
   "outputs": [],
   "source": [
    "#Bagging :"
   ]
  },
  {
   "cell_type": "code",
   "execution_count": 179,
   "metadata": {},
   "outputs": [
    {
     "data": {
      "text/plain": [
       "BaggingRegressor(base_estimator=RidgeCV(alphas=array([ 0.1,  1. , 10. ]),\n",
       "                                        cv=None, fit_intercept=True,\n",
       "                                        gcv_mode=None, normalize=False,\n",
       "                                        scoring=None, store_cv_values=False),\n",
       "                 bootstrap=True, bootstrap_features=True, max_features=1.0,\n",
       "                 max_samples=100, n_estimators=500, n_jobs=-1, oob_score=True,\n",
       "                 random_state=None, verbose=0, warm_start=False)"
      ]
     },
     "execution_count": 179,
     "metadata": {},
     "output_type": "execute_result"
    }
   ],
   "source": [
    "bag = BaggingRegressor(\n",
    "    RidgeCV(), n_estimators=500,\n",
    "    max_samples=100, bootstrap=True, bootstrap_features=True, n_jobs=-1, oob_score=True)\n",
    "bag.fit(X_train_A, y_train_A)"
   ]
  },
  {
   "cell_type": "code",
   "execution_count": 180,
   "metadata": {},
   "outputs": [],
   "source": [
    "bag_pred_A = bag.predict(X_train_A)"
   ]
  },
  {
   "cell_type": "code",
   "execution_count": 181,
   "metadata": {},
   "outputs": [],
   "source": [
    "bag_pred_final_A = bag.predict(X_test_A)\n",
    "bag_mse_A = round(mean_squared_error(y_test_A, bag_pred_final_A), 5)\n",
    "bag_rmse_A = round(np.sqrt(bag_mse_A), 5)\n",
    "bag_R2_A = round(bag.score(X_test_A, y_test_A),5)"
   ]
  },
  {
   "cell_type": "code",
   "execution_count": 182,
   "metadata": {},
   "outputs": [
    {
     "data": {
      "text/plain": [
       "0.05076"
      ]
     },
     "execution_count": 182,
     "metadata": {},
     "output_type": "execute_result"
    }
   ],
   "source": [
    "bag_mse_A"
   ]
  },
  {
   "cell_type": "code",
   "execution_count": 183,
   "metadata": {},
   "outputs": [
    {
     "data": {
      "text/plain": [
       "0.2253"
      ]
     },
     "execution_count": 183,
     "metadata": {},
     "output_type": "execute_result"
    }
   ],
   "source": [
    "bag_rmse_A "
   ]
  },
  {
   "cell_type": "code",
   "execution_count": 184,
   "metadata": {},
   "outputs": [
    {
     "data": {
      "text/plain": [
       "0.95352"
      ]
     },
     "execution_count": 184,
     "metadata": {},
     "output_type": "execute_result"
    }
   ],
   "source": [
    "bag_R2_A "
   ]
  },
  {
   "cell_type": "markdown",
   "metadata": {},
   "source": [
    "Le script suivant permets de visualiser les résidus de modèle final :"
   ]
  },
  {
   "cell_type": "code",
   "execution_count": 185,
   "metadata": {},
   "outputs": [
    {
     "data": {
      "text/plain": [
       "Text(0.5, 1.0, 'Residual Plots')"
      ]
     },
     "execution_count": 185,
     "metadata": {},
     "output_type": "execute_result"
    },
    {
     "data": {
      "image/png": "[encoded data removed]",
      "text/plain": [
       "<Figure size 432x288 with 1 Axes>"
      ]
     },
     "metadata": {
      "needs_background": "light"
     },
     "output_type": "display_data"
    }
   ],
   "source": [
    "#Pour visualiser les erreurs de modèle test et train :\n",
    "\n",
    "# Scatter plot the training data\n",
    "train = plt.scatter(pred,(y_train_A-pred),c='b',alpha=0.3)\n",
    "\n",
    "# Scatter plot the testing data\n",
    "test = plt.scatter(final_pred_A,(y_test_A-final_pred_A),c='r',alpha=0.3)\n",
    "\n",
    "# Plot a horizontal axis line at 0\n",
    "plt.hlines(y=0,xmin=-4,xmax=4)\n",
    "\n",
    "#Labels\n",
    "plt.legend((train,test),('Training','Test'),loc='lower left')\n",
    "plt.title('Residual Plots')"
   ]
  },
  {
   "cell_type": "markdown",
   "metadata": {},
   "source": [
    "Le script suivant permets de visualiser les résidus de modèle final avec bagging :"
   ]
  },
  {
   "cell_type": "code",
   "execution_count": 186,
   "metadata": {},
   "outputs": [
    {
     "data": {
      "text/plain": [
       "Text(0.5, 1.0, 'Residual Plots - with bagging method')"
      ]
     },
     "execution_count": 186,
     "metadata": {},
     "output_type": "execute_result"
    },
    {
     "data": {
      "image/png": "[encoded data removed]",
      "text/plain": [
       "<Figure size 432x288 with 1 Axes>"
      ]
     },
     "metadata": {
      "needs_background": "light"
     },
     "output_type": "display_data"
    }
   ],
   "source": [
    "#Pour visualiser les erreurs de modèle test et train :\n",
    "\n",
    "# Scatter plot the training data\n",
    "train = plt.scatter(bag_pred_A,(y_train_A-bag_pred_A),c='b',alpha=0.3)\n",
    "\n",
    "# Scatter plot the testing data\n",
    "test = plt.scatter(bag_pred_final_A,(y_test_A-bag_pred_final_A),c='r',alpha=0.3)\n",
    "\n",
    "# Plot a horizontal axis line at 0\n",
    "plt.hlines(y=0,xmin=-4,xmax=4)\n",
    "\n",
    "#Labels\n",
    "plt.legend((train,test),('Training','Test'),loc='lower left')\n",
    "plt.title('Residual Plots - with bagging method')"
   ]
  },
  {
   "cell_type": "markdown",
   "metadata": {},
   "source": [
    "### 6.3.3 A Prédictions en fonctions de type d'immeuble"
   ]
  },
  {
   "cell_type": "code",
   "execution_count": 189,
   "metadata": {},
   "outputs": [],
   "source": [
    "def testing_property_type(property_type, X, y, test):\n",
    "    \n",
    "    \"\"\"Focntion qui prend en compte le type d'immeuble, les données d'entraînement et les données test et qui retourne \n",
    "    MSE, RMSE et R2 en fonction de type de bâtiment\n",
    "    \n",
    "    Entrées :\n",
    "\n",
    "    Property_type : Le nom de type d'immeuble\n",
    "    X : DataFrame de features n'entraînement\n",
    "    y : Vecteur de la cible d'entraînement\n",
    "    test : DataFrame de données test\n",
    "    \n",
    "    Sortie :\n",
    "    \n",
    "    List de scores MSE, RMSE et R2   \n",
    "    \n",
    "    \"\"\"\n",
    "    \n",
    "    \n",
    "    test_ppt = test[test[property_type]==1]\n",
    "    y_test_ppt = test_ppt['TotalGHGEmissions_log']\n",
    "    X_test = test_ppt.drop(['TotalGHGEmissions_log'], axis=1)\n",
    "    \n",
    "    \n",
    "    mod = RidgeCV(cv=5)\n",
    "    mod.fit(X, y)\n",
    "    pred_final = mod.predict(X_test)\n",
    "    mse = round(mean_squared_error(y_test_ppt, pred_final), 5)\n",
    "    rmse = round(np.sqrt(mse), 5)\n",
    "    R2 = round(mod.score(X_test, y_test_ppt), 5)\n",
    "    scores=list([mse, rmse, R2])\n",
    "    return scores"
   ]
  },
  {
   "cell_type": "code",
   "execution_count": 190,
   "metadata": {},
   "outputs": [],
   "source": [
    "hotel=testing_property_type('PrimaryPropertyType_Hotel', X_train_A, y_train_A, data_test_clean)\n",
    "large_office=testing_property_type('PrimaryPropertyType_Large Office', X_train_A, y_train_A, data_test_clean)\n",
    "mixed_use=testing_property_type('PrimaryPropertyType_Mixed Use Property', X_train_A, y_train_A, data_test_clean)\n",
    "other=testing_property_type('PrimaryPropertyType_Other', X_train_A, y_train_A, data_test_clean)\n",
    "retail_store=testing_property_type('PrimaryPropertyType_Retail Store', X_train_A, y_train_A, data_test_clean)\n",
    "small_office=testing_property_type('PrimaryPropertyType_Small- and Mid-Sized Office', X_train_A, y_train_A, data_test_clean)\n",
    "warehouse=testing_property_type('PrimaryPropertyType_Warehouse', X_train_A, y_train_A, data_test_clean)\n"
   ]
  },
  {
   "cell_type": "code",
   "execution_count": 191,
   "metadata": {},
   "outputs": [],
   "source": [
    "scores_ppt=DataFrame([large_office, small_office, retail_store, warehouse, mixed_use, hotel, other],\n",
    "                 index=['Grand bureau', 'Petit et moyen bureau', 'Magasin de détails', 'Entrepôt', 'Utilisation mixte',\n",
    "                       'Hôtel', 'Autre'],\n",
    "                 columns=['MSE', 'RMSE', 'R2'])"
   ]
  },
  {
   "cell_type": "code",
   "execution_count": 192,
   "metadata": {},
   "outputs": [
    {
     "data": {
      "text/html": [
       "<div>\n",
       "<style scoped>\n",
       "    .dataframe tbody tr th:only-of-type {\n",
       "        vertical-align: middle;\n",
       "    }\n",
       "\n",
       "    .dataframe tbody tr th {\n",
       "        vertical-align: top;\n",
       "    }\n",
       "\n",
       "    .dataframe thead th {\n",
       "        text-align: right;\n",
       "    }\n",
       "</style>\n",
       "<table border=\"1\" class=\"dataframe\">\n",
       "  <thead>\n",
       "    <tr style=\"text-align: right;\">\n",
       "      <th></th>\n",
       "      <th>MSE</th>\n",
       "      <th>RMSE</th>\n",
       "      <th>R2</th>\n",
       "    </tr>\n",
       "  </thead>\n",
       "  <tbody>\n",
       "    <tr>\n",
       "      <th>Grand bureau</th>\n",
       "      <td>0.00763</td>\n",
       "      <td>0.08735</td>\n",
       "      <td>0.97922</td>\n",
       "    </tr>\n",
       "    <tr>\n",
       "      <th>Petit et moyen bureau</th>\n",
       "      <td>0.00715</td>\n",
       "      <td>0.08456</td>\n",
       "      <td>0.98307</td>\n",
       "    </tr>\n",
       "    <tr>\n",
       "      <th>Magasin de détails</th>\n",
       "      <td>0.01025</td>\n",
       "      <td>0.10124</td>\n",
       "      <td>0.98544</td>\n",
       "    </tr>\n",
       "    <tr>\n",
       "      <th>Entrepôt</th>\n",
       "      <td>0.00472</td>\n",
       "      <td>0.06870</td>\n",
       "      <td>0.99374</td>\n",
       "    </tr>\n",
       "    <tr>\n",
       "      <th>Utilisation mixte</th>\n",
       "      <td>0.00274</td>\n",
       "      <td>0.05235</td>\n",
       "      <td>0.99709</td>\n",
       "    </tr>\n",
       "    <tr>\n",
       "      <th>Hôtel</th>\n",
       "      <td>0.00130</td>\n",
       "      <td>0.03606</td>\n",
       "      <td>0.99872</td>\n",
       "    </tr>\n",
       "    <tr>\n",
       "      <th>Autre</th>\n",
       "      <td>0.01413</td>\n",
       "      <td>0.11887</td>\n",
       "      <td>0.98982</td>\n",
       "    </tr>\n",
       "  </tbody>\n",
       "</table>\n",
       "</div>"
      ],
      "text/plain": [
       "                           MSE     RMSE       R2\n",
       "Grand bureau           0.00763  0.08735  0.97922\n",
       "Petit et moyen bureau  0.00715  0.08456  0.98307\n",
       "Magasin de détails     0.01025  0.10124  0.98544\n",
       "Entrepôt               0.00472  0.06870  0.99374\n",
       "Utilisation mixte      0.00274  0.05235  0.99709\n",
       "Hôtel                  0.00130  0.03606  0.99872\n",
       "Autre                  0.01413  0.11887  0.98982"
      ]
     },
     "execution_count": 192,
     "metadata": {},
     "output_type": "execute_result"
    }
   ],
   "source": [
    "scores_ppt"
   ]
  },
  {
   "cell_type": "code",
   "execution_count": 207,
   "metadata": {},
   "outputs": [
    {
     "data": {
      "image/png": "[encoded data removed]",
      "text/plain": [
       "<Figure size 432x288 with 1 Axes>"
      ]
     },
     "metadata": {
      "needs_background": "light"
     },
     "output_type": "display_data"
    }
   ],
   "source": [
    "plt.title(\"RMSE en fonction de type de bâtiment\")\n",
    "plt.barh(range(scores_ppt.shape[0]), scores_ppt['RMSE'], color='chartreuse')\n",
    "plt.yticks(range(scores_ppt.shape[0]), scores_ppt.index)\n",
    "\n",
    "label_size = 7\n",
    "plt.rcParams['xtick.labelsize'] = label_size \n",
    "plt.rcParams['ytick.labelsize'] = label_size "
   ]
  },
  {
   "cell_type": "markdown",
   "metadata": {},
   "source": [
    "# B - Modélisation de la consommation d'énergie avec forêts aléatoires "
   ]
  },
  {
   "cell_type": "markdown",
   "metadata": {},
   "source": [
    "## 6.1 B Ajustement de paramètres avec une recherche sur grille"
   ]
  },
  {
   "cell_type": "markdown",
   "metadata": {},
   "source": [
    "Nous allons utiliser la méthode de recherche sur grille (grid validation) afin de trouver les meilleurs paramètres de forêts aléatoires qui seront utilisées pour prédire la consommation d'énérgie de batîments.\n",
    "\n",
    "Le modul GridSearchCV va construire toutes les combinaisons de forêts avec 20, 30, 40, 50, 100 et 150 arbres et 20, 25 ou 29 features. Ceci sera fait en utilisant bootstrap (tirage avec remise) ou non."
   ]
  },
  {
   "cell_type": "markdown",
   "metadata": {},
   "source": [
    "### 6.1.1 B Modèle avec sélection de variables (27 features) "
   ]
  },
  {
   "cell_type": "code",
   "execution_count": 118,
   "metadata": {},
   "outputs": [
    {
     "data": {
      "text/plain": [
       "GridSearchCV(cv=5, error_score='raise-deprecating',\n",
       "             estimator=RandomForestRegressor(bootstrap=True, criterion='mse',\n",
       "                                             max_depth=None,\n",
       "                                             max_features='auto',\n",
       "                                             max_leaf_nodes=None,\n",
       "                                             min_impurity_decrease=0.0,\n",
       "                                             min_impurity_split=None,\n",
       "                                             min_samples_leaf=1,\n",
       "                                             min_samples_split=2,\n",
       "                                             min_weight_fraction_leaf=0.0,\n",
       "                                             n_estimators='warn', n_jobs=None,\n",
       "                                             oob_score=False, random_state=42,\n",
       "                                             verbose=0, warm_start=False),\n",
       "             iid='warn', n_jobs=None,\n",
       "             param_grid=[{'max_features': [20, 25, 29],\n",
       "                          'n_estimators': [20, 30, 40, 50, 100, 150]},\n",
       "                         {'bootstrap': [False], 'max_features': [20, 25, 29],\n",
       "                          'n_estimators': [20, 30, 40, 50, 100, 150]}],\n",
       "             pre_dispatch='2*n_jobs', refit=True, return_train_score=True,\n",
       "             scoring='neg_mean_squared_error', verbose=0)"
      ]
     },
     "execution_count": 118,
     "metadata": {},
     "output_type": "execute_result"
    }
   ],
   "source": [
    "from sklearn.model_selection import GridSearchCV\n",
    "\n",
    "param_grid = [\n",
    "    {'n_estimators': [20, 30, 40, 50, 100, 150], 'max_features': [20,25,29]},\n",
    "    {'bootstrap': [False], 'n_estimators': [20, 30, 40, 50, 100, 150], 'max_features': [20, 25, 29]},\n",
    "  ]\n",
    "\n",
    "forest_reg = RandomForestRegressor(random_state = 42)\n",
    "\n",
    "grid_search = GridSearchCV(forest_reg, param_grid, cv=5,\n",
    "                           scoring='neg_mean_squared_error',\n",
    "                           return_train_score=True)\n",
    "\n",
    "grid_search.fit(X_train_B, y_train_B)"
   ]
  },
  {
   "cell_type": "code",
   "execution_count": 119,
   "metadata": {},
   "outputs": [
    {
     "data": {
      "text/plain": [
       "{'max_features': 29, 'n_estimators': 100}"
      ]
     },
     "execution_count": 119,
     "metadata": {},
     "output_type": "execute_result"
    }
   ],
   "source": [
    "grid_search.best_params_"
   ]
  },
  {
   "cell_type": "code",
   "execution_count": 120,
   "metadata": {},
   "outputs": [
    {
     "name": "stdout",
     "output_type": "stream",
     "text": [
      "0.17915059973642392 {'max_features': 20, 'n_estimators': 20}\n",
      "0.17616830082868856 {'max_features': 20, 'n_estimators': 30}\n",
      "0.17373420793460892 {'max_features': 20, 'n_estimators': 40}\n",
      "0.17395300417136314 {'max_features': 20, 'n_estimators': 50}\n",
      "0.17159533418781428 {'max_features': 20, 'n_estimators': 100}\n",
      "0.17193129547866712 {'max_features': 20, 'n_estimators': 150}\n",
      "0.17482494404651852 {'max_features': 25, 'n_estimators': 20}\n",
      "0.1695904627479634 {'max_features': 25, 'n_estimators': 30}\n",
      "0.16776116601201563 {'max_features': 25, 'n_estimators': 40}\n",
      "0.16776473437805825 {'max_features': 25, 'n_estimators': 50}\n",
      "0.16401199654203955 {'max_features': 25, 'n_estimators': 100}\n",
      "0.16437757822490942 {'max_features': 25, 'n_estimators': 150}\n",
      "0.1700268036344316 {'max_features': 29, 'n_estimators': 20}\n",
      "0.16616373393388137 {'max_features': 29, 'n_estimators': 30}\n",
      "0.16449090788422904 {'max_features': 29, 'n_estimators': 40}\n",
      "0.1634495287452551 {'max_features': 29, 'n_estimators': 50}\n",
      "0.1612015031921842 {'max_features': 29, 'n_estimators': 100}\n",
      "0.16148928833608173 {'max_features': 29, 'n_estimators': 150}\n",
      "0.17548543354402066 {'bootstrap': False, 'max_features': 20, 'n_estimators': 20}\n",
      "0.17178514277553175 {'bootstrap': False, 'max_features': 20, 'n_estimators': 30}\n",
      "0.17021190746278878 {'bootstrap': False, 'max_features': 20, 'n_estimators': 40}\n",
      "0.17050146342882339 {'bootstrap': False, 'max_features': 20, 'n_estimators': 50}\n",
      "0.16748240960789207 {'bootstrap': False, 'max_features': 20, 'n_estimators': 100}\n",
      "0.1683261854205377 {'bootstrap': False, 'max_features': 20, 'n_estimators': 150}\n",
      "0.1764788741200093 {'bootstrap': False, 'max_features': 25, 'n_estimators': 20}\n",
      "0.17467249448041547 {'bootstrap': False, 'max_features': 25, 'n_estimators': 30}\n",
      "0.1746340721647375 {'bootstrap': False, 'max_features': 25, 'n_estimators': 40}\n",
      "0.17503874698555547 {'bootstrap': False, 'max_features': 25, 'n_estimators': 50}\n",
      "0.1741037192887776 {'bootstrap': False, 'max_features': 25, 'n_estimators': 100}\n",
      "0.17487798803679525 {'bootstrap': False, 'max_features': 25, 'n_estimators': 150}\n",
      "0.207029354369165 {'bootstrap': False, 'max_features': 29, 'n_estimators': 20}\n",
      "0.20647263405527067 {'bootstrap': False, 'max_features': 29, 'n_estimators': 30}\n",
      "0.20612034853461228 {'bootstrap': False, 'max_features': 29, 'n_estimators': 40}\n",
      "0.2054769096848493 {'bootstrap': False, 'max_features': 29, 'n_estimators': 50}\n",
      "0.20592868584265464 {'bootstrap': False, 'max_features': 29, 'n_estimators': 100}\n",
      "0.2066413675564153 {'bootstrap': False, 'max_features': 29, 'n_estimators': 150}\n"
     ]
    }
   ],
   "source": [
    "cvres = grid_search.cv_results_\n",
    "for mean_score, params in zip(cvres[\"mean_test_score\"], cvres[\"params\"]):\n",
    "    print(np.sqrt(-mean_score), params)"
   ]
  },
  {
   "cell_type": "markdown",
   "metadata": {},
   "source": [
    "Nous pouvons voir que l'utilisation de bootstrap donne globalement meilleurs résultats. Nous allons refaire une recherche sur grille en augmentant le nombre d'arbres et en ajoutant plusieurs options pour le nombre de features qui rentrent dans le modèle, cette fois-ci uniquement en utilisant le bootstrap."
   ]
  },
  {
   "cell_type": "code",
   "execution_count": 121,
   "metadata": {},
   "outputs": [
    {
     "data": {
      "text/plain": [
       "GridSearchCV(cv=5, error_score='raise-deprecating',\n",
       "             estimator=RandomForestRegressor(bootstrap=True, criterion='mse',\n",
       "                                             max_depth=None,\n",
       "                                             max_features='auto',\n",
       "                                             max_leaf_nodes=None,\n",
       "                                             min_impurity_decrease=0.0,\n",
       "                                             min_impurity_split=None,\n",
       "                                             min_samples_leaf=1,\n",
       "                                             min_samples_split=2,\n",
       "                                             min_weight_fraction_leaf=0.0,\n",
       "                                             n_estimators='warn', n_jobs=None,\n",
       "                                             oob_score=False, random_state=42,\n",
       "                                             verbose=0, warm_start=False),\n",
       "             iid='warn', n_jobs=None,\n",
       "             param_grid=[{'max_features': [5, 10, 15, 20, 25, 29],\n",
       "                          'n_estimators': [10, 20, 30, 40, 50, 60, 70, 80, 90,\n",
       "                                           100, 125, 150, 175, 200]}],\n",
       "             pre_dispatch='2*n_jobs', refit=True, return_train_score=True,\n",
       "             scoring='neg_mean_squared_error', verbose=0)"
      ]
     },
     "execution_count": 121,
     "metadata": {},
     "output_type": "execute_result"
    }
   ],
   "source": [
    "param_grid = [\n",
    "    {'n_estimators': [10, 20, 30, 40, 50, 60, 70, 80, 90,  100, 125,  150, 175, 200], \n",
    "     'max_features': [5, 10, 15, 20, 25, 29]} ]\n",
    "\n",
    "forest_reg = RandomForestRegressor(random_state = 42)\n",
    "\n",
    "grid_search = GridSearchCV(forest_reg, param_grid, cv=5,\n",
    "                           scoring='neg_mean_squared_error',\n",
    "                           return_train_score=True)\n",
    "\n",
    "grid_search.fit(X_train_B, y_train_B)"
   ]
  },
  {
   "cell_type": "markdown",
   "metadata": {},
   "source": [
    "Le listing suivant représente le score en fonction de combinaison de paramètres du modèle :"
   ]
  },
  {
   "cell_type": "code",
   "execution_count": 122,
   "metadata": {},
   "outputs": [
    {
     "name": "stdout",
     "output_type": "stream",
     "text": [
      "0.38264766689131097 {'max_features': 5, 'n_estimators': 10}\n",
      "0.3482833140117484 {'max_features': 5, 'n_estimators': 20}\n",
      "0.34589608386311366 {'max_features': 5, 'n_estimators': 30}\n",
      "0.32945249874269794 {'max_features': 5, 'n_estimators': 40}\n",
      "0.32474445290568965 {'max_features': 5, 'n_estimators': 50}\n",
      "0.32411630143792497 {'max_features': 5, 'n_estimators': 60}\n",
      "0.32087026814929454 {'max_features': 5, 'n_estimators': 70}\n",
      "0.3184454463987529 {'max_features': 5, 'n_estimators': 80}\n",
      "0.31900360653114224 {'max_features': 5, 'n_estimators': 90}\n",
      "0.32068053972058586 {'max_features': 5, 'n_estimators': 100}\n",
      "0.3188063876373383 {'max_features': 5, 'n_estimators': 125}\n",
      "0.3207587766438851 {'max_features': 5, 'n_estimators': 150}\n",
      "0.3183072187703972 {'max_features': 5, 'n_estimators': 175}\n",
      "0.3192445562630288 {'max_features': 5, 'n_estimators': 200}\n",
      "0.24811894513264424 {'max_features': 10, 'n_estimators': 10}\n",
      "0.2366306209131178 {'max_features': 10, 'n_estimators': 20}\n",
      "0.2384399458807152 {'max_features': 10, 'n_estimators': 30}\n",
      "0.2376457719558128 {'max_features': 10, 'n_estimators': 40}\n",
      "0.23610503098899327 {'max_features': 10, 'n_estimators': 50}\n",
      "0.23596038734956265 {'max_features': 10, 'n_estimators': 60}\n",
      "0.23325652574097944 {'max_features': 10, 'n_estimators': 70}\n",
      "0.23281340951722052 {'max_features': 10, 'n_estimators': 80}\n",
      "0.23192246128361668 {'max_features': 10, 'n_estimators': 90}\n",
      "0.23125409769596764 {'max_features': 10, 'n_estimators': 100}\n",
      "0.2301503033906291 {'max_features': 10, 'n_estimators': 125}\n",
      "0.23059533246032735 {'max_features': 10, 'n_estimators': 150}\n",
      "0.22934126803638105 {'max_features': 10, 'n_estimators': 175}\n",
      "0.23098833730636265 {'max_features': 10, 'n_estimators': 200}\n",
      "0.21457637500929755 {'max_features': 15, 'n_estimators': 10}\n",
      "0.20488096399813707 {'max_features': 15, 'n_estimators': 20}\n",
      "0.19985991379886503 {'max_features': 15, 'n_estimators': 30}\n",
      "0.19625610147433295 {'max_features': 15, 'n_estimators': 40}\n",
      "0.19431336403613286 {'max_features': 15, 'n_estimators': 50}\n",
      "0.19446561631315218 {'max_features': 15, 'n_estimators': 60}\n",
      "0.19474335977606397 {'max_features': 15, 'n_estimators': 70}\n",
      "0.1931956115178756 {'max_features': 15, 'n_estimators': 80}\n",
      "0.19269846606491342 {'max_features': 15, 'n_estimators': 90}\n",
      "0.19283208287974743 {'max_features': 15, 'n_estimators': 100}\n",
      "0.1911215588866002 {'max_features': 15, 'n_estimators': 125}\n",
      "0.19143565279121003 {'max_features': 15, 'n_estimators': 150}\n",
      "0.1910594280160824 {'max_features': 15, 'n_estimators': 175}\n",
      "0.19052697307787203 {'max_features': 15, 'n_estimators': 200}\n",
      "0.1876819289166781 {'max_features': 20, 'n_estimators': 10}\n",
      "0.17915059973642392 {'max_features': 20, 'n_estimators': 20}\n",
      "0.17616830082868856 {'max_features': 20, 'n_estimators': 30}\n",
      "0.17373420793460892 {'max_features': 20, 'n_estimators': 40}\n",
      "0.17395300417136314 {'max_features': 20, 'n_estimators': 50}\n",
      "0.17268821847782612 {'max_features': 20, 'n_estimators': 60}\n",
      "0.17058912676118418 {'max_features': 20, 'n_estimators': 70}\n",
      "0.17061988157950275 {'max_features': 20, 'n_estimators': 80}\n",
      "0.1700880867145496 {'max_features': 20, 'n_estimators': 90}\n",
      "0.17159533418781428 {'max_features': 20, 'n_estimators': 100}\n",
      "0.17133658291289186 {'max_features': 20, 'n_estimators': 125}\n",
      "0.17193129547866712 {'max_features': 20, 'n_estimators': 150}\n",
      "0.17149100857779861 {'max_features': 20, 'n_estimators': 175}\n",
      "0.1718106752954257 {'max_features': 20, 'n_estimators': 200}\n",
      "0.1844561893521271 {'max_features': 25, 'n_estimators': 10}\n",
      "0.17482494404651852 {'max_features': 25, 'n_estimators': 20}\n",
      "0.1695904627479634 {'max_features': 25, 'n_estimators': 30}\n",
      "0.16776116601201563 {'max_features': 25, 'n_estimators': 40}\n",
      "0.16776473437805825 {'max_features': 25, 'n_estimators': 50}\n",
      "0.1655376890252394 {'max_features': 25, 'n_estimators': 60}\n",
      "0.16446421704962336 {'max_features': 25, 'n_estimators': 70}\n",
      "0.16436776595358227 {'max_features': 25, 'n_estimators': 80}\n",
      "0.16383475092603283 {'max_features': 25, 'n_estimators': 90}\n",
      "0.16401199654203955 {'max_features': 25, 'n_estimators': 100}\n",
      "0.16390435556350463 {'max_features': 25, 'n_estimators': 125}\n",
      "0.16437757822490942 {'max_features': 25, 'n_estimators': 150}\n",
      "0.1640029980870378 {'max_features': 25, 'n_estimators': 175}\n",
      "0.1642251815072894 {'max_features': 25, 'n_estimators': 200}\n",
      "0.1780002152281133 {'max_features': 29, 'n_estimators': 10}\n",
      "0.1700268036344316 {'max_features': 29, 'n_estimators': 20}\n",
      "0.16616373393388137 {'max_features': 29, 'n_estimators': 30}\n",
      "0.16449090788422904 {'max_features': 29, 'n_estimators': 40}\n",
      "0.1634495287452551 {'max_features': 29, 'n_estimators': 50}\n",
      "0.16254919283499958 {'max_features': 29, 'n_estimators': 60}\n",
      "0.16142843080448072 {'max_features': 29, 'n_estimators': 70}\n",
      "0.16136502415070056 {'max_features': 29, 'n_estimators': 80}\n",
      "0.16105737296870845 {'max_features': 29, 'n_estimators': 90}\n",
      "0.1612015031921842 {'max_features': 29, 'n_estimators': 100}\n",
      "0.1609996739128686 {'max_features': 29, 'n_estimators': 125}\n",
      "0.16148928833608173 {'max_features': 29, 'n_estimators': 150}\n",
      "0.16149136720803586 {'max_features': 29, 'n_estimators': 175}\n",
      "0.16093783194071004 {'max_features': 29, 'n_estimators': 200}\n"
     ]
    }
   ],
   "source": [
    "cvres = grid_search.cv_results_\n",
    "for mean_score, params in zip(cvres[\"mean_test_score\"], cvres[\"params\"]):\n",
    "    print(np.sqrt(-mean_score), params)"
   ]
  },
  {
   "cell_type": "markdown",
   "metadata": {},
   "source": [
    "Nous allons représenter les scores à l'aide de heatmaps :"
   ]
  },
  {
   "cell_type": "code",
   "execution_count": 123,
   "metadata": {},
   "outputs": [
    {
     "data": {
      "text/plain": [
       "<matplotlib.axes._subplots.AxesSubplot at 0xd6d3278>"
      ]
     },
     "execution_count": 123,
     "metadata": {},
     "output_type": "execute_result"
    },
    {
     "data": {
      "image/png": "[encoded data removed]",
      "text/plain": [
       "<Figure size 432x288 with 2 Axes>"
      ]
     },
     "metadata": {
      "needs_background": "light"
     },
     "output_type": "display_data"
    }
   ],
   "source": [
    "mean_test_score=grid_search.cv_results_[\"mean_test_score\"]\n",
    "max_features = 14*[5, 10, 15, 20, 25, 29]\n",
    "max_features.sort()\n",
    "n_estimators = 6*[10, 20, 30, 40, 50, 60, 70, 80, 90,  100, 125,  150, 175, 200]\n",
    "grid_map = DataFrame([max_features,n_estimators,mean_test_score]).T\n",
    "grid_map.rename(columns={0:'max_features', 1:'n_estimators', 2:'Mean_test_score'}, inplace=True)\n",
    "grid_map = grid_map.pivot('max_features', 'n_estimators', 'Mean_test_score')\n",
    "sns.heatmap(grid_map)"
   ]
  },
  {
   "cell_type": "markdown",
   "metadata": {},
   "source": [
    "Nous pouvons voir que les meilleures scores sont obtenus à partir de 20 features qui rentrent dans le modèle. \n",
    "\n",
    "L'option suivante affiche directement la meilleure combinaison de paramètres : "
   ]
  },
  {
   "cell_type": "code",
   "execution_count": 124,
   "metadata": {},
   "outputs": [
    {
     "data": {
      "text/plain": [
       "{'max_features': 29, 'n_estimators': 200}"
      ]
     },
     "execution_count": 124,
     "metadata": {},
     "output_type": "execute_result"
    }
   ],
   "source": [
    "grid_search.best_params_"
   ]
  },
  {
   "cell_type": "markdown",
   "metadata": {},
   "source": [
    "Créer le modèle avec les meilleures paramètres trouvés :"
   ]
  },
  {
   "cell_type": "code",
   "execution_count": 125,
   "metadata": {},
   "outputs": [],
   "source": [
    "forest_final = RandomForestRegressor(max_features=29, n_estimators=200, random_state=42)"
   ]
  },
  {
   "cell_type": "code",
   "execution_count": 126,
   "metadata": {},
   "outputs": [
    {
     "data": {
      "text/plain": [
       "RandomForestRegressor(bootstrap=True, criterion='mse', max_depth=None,\n",
       "                      max_features=29, max_leaf_nodes=None,\n",
       "                      min_impurity_decrease=0.0, min_impurity_split=None,\n",
       "                      min_samples_leaf=1, min_samples_split=2,\n",
       "                      min_weight_fraction_leaf=0.0, n_estimators=200,\n",
       "                      n_jobs=None, oob_score=False, random_state=42, verbose=0,\n",
       "                      warm_start=False)"
      ]
     },
     "execution_count": 126,
     "metadata": {},
     "output_type": "execute_result"
    }
   ],
   "source": [
    "forest_final.fit(X_train_B, y_train_B)"
   ]
  },
  {
   "cell_type": "code",
   "execution_count": 127,
   "metadata": {},
   "outputs": [],
   "source": [
    "pred_B = forest_final.predict(X_train_B)\n",
    "mse_B = round(mean_squared_error(y_train_B, pred_B), 5)\n",
    "rmse_B = round(np.sqrt(mse_B), 5)\n",
    "R2_B = round(forest_final.score(X_train_B, y_train_B),5)"
   ]
  },
  {
   "cell_type": "code",
   "execution_count": 128,
   "metadata": {},
   "outputs": [
    {
     "data": {
      "text/plain": [
       "0.00321"
      ]
     },
     "execution_count": 128,
     "metadata": {},
     "output_type": "execute_result"
    }
   ],
   "source": [
    "mse_B"
   ]
  },
  {
   "cell_type": "code",
   "execution_count": 129,
   "metadata": {},
   "outputs": [
    {
     "data": {
      "text/plain": [
       "0.05666"
      ]
     },
     "execution_count": 129,
     "metadata": {},
     "output_type": "execute_result"
    }
   ],
   "source": [
    "rmse_B"
   ]
  },
  {
   "cell_type": "code",
   "execution_count": 130,
   "metadata": {},
   "outputs": [
    {
     "data": {
      "text/plain": [
       "0.99679"
      ]
     },
     "execution_count": 130,
     "metadata": {},
     "output_type": "execute_result"
    }
   ],
   "source": [
    "R2_B"
   ]
  },
  {
   "cell_type": "markdown",
   "metadata": {},
   "source": [
    "Le modèle avec 29 features et 200 arbres est le plus performant avec le RMSE de 0.0567 et coefficient de détermination R2 = 0.9970."
   ]
  },
  {
   "cell_type": "markdown",
   "metadata": {},
   "source": [
    "## 6.2 B Evaluation de modèle final"
   ]
  },
  {
   "cell_type": "markdown",
   "metadata": {},
   "source": [
    "### 6.3.1 B Préparation de données"
   ]
  },
  {
   "cell_type": "code",
   "execution_count": 133,
   "metadata": {},
   "outputs": [],
   "source": [
    "y_test_B = data_test_clean['SiteEnergyUse(kBtu)_log']"
   ]
  },
  {
   "cell_type": "code",
   "execution_count": 134,
   "metadata": {},
   "outputs": [],
   "source": [
    "X_test_B = data_test_clean.drop(['SiteEnergyUse(kBtu)_log'], axis=1)"
   ]
  },
  {
   "cell_type": "markdown",
   "metadata": {},
   "source": [
    "### 6.3.2 B Evaluation de modèle"
   ]
  },
  {
   "cell_type": "code",
   "execution_count": 135,
   "metadata": {},
   "outputs": [
    {
     "data": {
      "text/plain": [
       "RandomForestRegressor(bootstrap=True, criterion='mse', max_depth=None,\n",
       "                      max_features=29, max_leaf_nodes=None,\n",
       "                      min_impurity_decrease=0.0, min_impurity_split=None,\n",
       "                      min_samples_leaf=1, min_samples_split=2,\n",
       "                      min_weight_fraction_leaf=0.0, n_estimators=200,\n",
       "                      n_jobs=None, oob_score=False, random_state=42, verbose=0,\n",
       "                      warm_start=False)"
      ]
     },
     "execution_count": 135,
     "metadata": {},
     "output_type": "execute_result"
    }
   ],
   "source": [
    "forest_final = RandomForestRegressor(max_features=29, n_estimators=200, random_state=42)\n",
    "forest_final.fit(X_train_B, y_train_B)"
   ]
  },
  {
   "cell_type": "code",
   "execution_count": 136,
   "metadata": {},
   "outputs": [],
   "source": [
    "pred_final_B = forest_final.predict(X_test_B)\n",
    "mse_final_B = round(mean_squared_error(y_test_B, pred_final_B), 5)\n",
    "rmse_final_B = round(np.sqrt(mse_final_B), 5)\n",
    "R2_final_B = round(forest_final.score(X_test_B, y_test_B),5)"
   ]
  },
  {
   "cell_type": "code",
   "execution_count": 137,
   "metadata": {},
   "outputs": [
    {
     "data": {
      "text/plain": [
       "0.01805"
      ]
     },
     "execution_count": 137,
     "metadata": {},
     "output_type": "execute_result"
    }
   ],
   "source": [
    "mse_final_B"
   ]
  },
  {
   "cell_type": "code",
   "execution_count": 138,
   "metadata": {},
   "outputs": [
    {
     "data": {
      "text/plain": [
       "0.13435"
      ]
     },
     "execution_count": 138,
     "metadata": {},
     "output_type": "execute_result"
    }
   ],
   "source": [
    "rmse_final_B"
   ]
  },
  {
   "cell_type": "code",
   "execution_count": 139,
   "metadata": {},
   "outputs": [
    {
     "data": {
      "text/plain": [
       "0.98233"
      ]
     },
     "execution_count": 139,
     "metadata": {},
     "output_type": "execute_result"
    }
   ],
   "source": [
    "R2_final_B"
   ]
  },
  {
   "cell_type": "markdown",
   "metadata": {},
   "source": [
    "Le score RMSE du modèle final est 0.13435 et le coefficient de détermination 98.233 %. Le modèle prédit bien les la consommation de batîments."
   ]
  },
  {
   "cell_type": "markdown",
   "metadata": {},
   "source": [
    "Le script suivant permets de visualiser les résidus de modèle final :"
   ]
  },
  {
   "cell_type": "code",
   "execution_count": 144,
   "metadata": {},
   "outputs": [
    {
     "data": {
      "text/plain": [
       "Text(0.5, 1.0, 'Residual Plots')"
      ]
     },
     "execution_count": 144,
     "metadata": {},
     "output_type": "execute_result"
    },
    {
     "data": {
      "image/png": "[encoded data removed]",
      "text/plain": [
       "<Figure size 432x288 with 1 Axes>"
      ]
     },
     "metadata": {
      "needs_background": "light"
     },
     "output_type": "display_data"
    }
   ],
   "source": [
    "#Pour visualiser les erreurs de modèle test et train :\n",
    "\n",
    "# Scatter plot the training data\n",
    "train = plt.scatter(pred_B,(y_train_B-pred_B),c='b',alpha=0.3)\n",
    "\n",
    "# Scatter plot the testing data\n",
    "test = plt.scatter(pred_final_B,(y_test_B-pred_final_B),c='r',alpha=0.3)\n",
    "\n",
    "# Plot a horizontal axis line at 0\n",
    "plt.hlines(y=0,xmin=-4,xmax=4)\n",
    "\n",
    "#Labels\n",
    "plt.legend((train,test),('Training','Test'),loc='lower left')\n",
    "plt.title('Residual Plots')"
   ]
  },
  {
   "cell_type": "markdown",
   "metadata": {},
   "source": [
    "### 6.3.3 B Prédiction en fonction de type d'immeuble"
   ]
  },
  {
   "cell_type": "code",
   "execution_count": 146,
   "metadata": {},
   "outputs": [],
   "source": [
    "def testing_property_typeB(property_type, X, y, test):\n",
    "    \n",
    "    \"\"\"Focntion qui prend en compte le type d'immeuble, les données d'entraînement et les données test et qui retourne \n",
    "    MSE, RMSE et R2 en fonction de type de bâtiment\n",
    "    \n",
    "    Entrées :\n",
    "\n",
    "    Property_type : Le nom de type d'immeuble\n",
    "    X : DataFrame de features n'entraînement\n",
    "    y : Vecteur de la cible d'entraînement\n",
    "    test : DataFrame de données test\n",
    "    \n",
    "    Sortie :\n",
    "    \n",
    "    List de scores MSE, RMSE et R2   \n",
    "    \n",
    "    \"\"\"\n",
    "    test_ppt = test[test[property_type]==1]\n",
    "    y_test_ppt = test_ppt['SiteEnergyUse(kBtu)_log']\n",
    "    X_test = test_ppt.drop(['SiteEnergyUse(kBtu)_log'], axis=1)\n",
    "    \n",
    "    mod = RandomForestRegressor(max_features=29, n_estimators=200, random_state=42)\n",
    "    mod.fit(X, y)\n",
    "      \n",
    "    pred_final = mod.predict(X_test)\n",
    "    mse = round(mean_squared_error(y_test_ppt, pred_final), 5)\n",
    "    rmse = round(np.sqrt(mse), 5)\n",
    "    R2 = round(mod.score(X_test, y_test_ppt), 5)\n",
    "    scores=list([mse, rmse, R2])\n",
    "    return scores"
   ]
  },
  {
   "cell_type": "code",
   "execution_count": 147,
   "metadata": {},
   "outputs": [],
   "source": [
    "hotel=testing_property_typeB('PrimaryPropertyType_Hotel', X_train_B, y_train_B, data_test_clean)\n",
    "large_office=testing_property_typeB('PrimaryPropertyType_Large Office', X_train_B, y_train_B, data_test_clean)\n",
    "mixed_use=testing_property_typeB('PrimaryPropertyType_Mixed Use Property', X_train_B, y_train_B, data_test_clean)\n",
    "other=testing_property_typeB('PrimaryPropertyType_Other', X_train_B, y_train_B, data_test_clean)\n",
    "retail_store=testing_property_typeB('PrimaryPropertyType_Retail Store', X_train_B, y_train_B, data_test_clean)\n",
    "small_office=testing_property_typeB('PrimaryPropertyType_Small- and Mid-Sized Office', X_train_B, y_train_B, data_test_clean)\n",
    "warehouse=testing_property_typeB('PrimaryPropertyType_Warehouse', X_train_B, y_train_B, data_test_clean)\n"
   ]
  },
  {
   "cell_type": "code",
   "execution_count": 148,
   "metadata": {},
   "outputs": [],
   "source": [
    "scores_pptB=DataFrame([large_office, small_office, retail_store, warehouse, mixed_use, hotel, other],\n",
    "                 index=['Grand bureau', 'Petit et moyen bureau', 'Magasin de détails', 'Entrepôt', 'Utilisation mixte',\n",
    "                       'Hôtel', 'Autre'],\n",
    "                 columns=['MSE', 'RMSE', 'R2'])"
   ]
  },
  {
   "cell_type": "code",
   "execution_count": 149,
   "metadata": {},
   "outputs": [
    {
     "data": {
      "text/html": [
       "<div>\n",
       "<style scoped>\n",
       "    .dataframe tbody tr th:only-of-type {\n",
       "        vertical-align: middle;\n",
       "    }\n",
       "\n",
       "    .dataframe tbody tr th {\n",
       "        vertical-align: top;\n",
       "    }\n",
       "\n",
       "    .dataframe thead th {\n",
       "        text-align: right;\n",
       "    }\n",
       "</style>\n",
       "<table border=\"1\" class=\"dataframe\">\n",
       "  <thead>\n",
       "    <tr style=\"text-align: right;\">\n",
       "      <th></th>\n",
       "      <th>MSE</th>\n",
       "      <th>RMSE</th>\n",
       "      <th>R2</th>\n",
       "    </tr>\n",
       "  </thead>\n",
       "  <tbody>\n",
       "    <tr>\n",
       "      <th>Grand bureau</th>\n",
       "      <td>0.01304</td>\n",
       "      <td>0.11419</td>\n",
       "      <td>0.95653</td>\n",
       "    </tr>\n",
       "    <tr>\n",
       "      <th>Petit et moyen bureau</th>\n",
       "      <td>0.01601</td>\n",
       "      <td>0.12653</td>\n",
       "      <td>0.94867</td>\n",
       "    </tr>\n",
       "    <tr>\n",
       "      <th>Magasin de détails</th>\n",
       "      <td>0.05686</td>\n",
       "      <td>0.23845</td>\n",
       "      <td>0.91553</td>\n",
       "    </tr>\n",
       "    <tr>\n",
       "      <th>Entrepôt</th>\n",
       "      <td>0.01355</td>\n",
       "      <td>0.11640</td>\n",
       "      <td>0.97361</td>\n",
       "    </tr>\n",
       "    <tr>\n",
       "      <th>Utilisation mixte</th>\n",
       "      <td>0.00503</td>\n",
       "      <td>0.07092</td>\n",
       "      <td>0.99338</td>\n",
       "    </tr>\n",
       "    <tr>\n",
       "      <th>Hôtel</th>\n",
       "      <td>0.01298</td>\n",
       "      <td>0.11393</td>\n",
       "      <td>0.98011</td>\n",
       "    </tr>\n",
       "    <tr>\n",
       "      <th>Autre</th>\n",
       "      <td>0.02326</td>\n",
       "      <td>0.15251</td>\n",
       "      <td>0.98283</td>\n",
       "    </tr>\n",
       "  </tbody>\n",
       "</table>\n",
       "</div>"
      ],
      "text/plain": [
       "                           MSE     RMSE       R2\n",
       "Grand bureau           0.01304  0.11419  0.95653\n",
       "Petit et moyen bureau  0.01601  0.12653  0.94867\n",
       "Magasin de détails     0.05686  0.23845  0.91553\n",
       "Entrepôt               0.01355  0.11640  0.97361\n",
       "Utilisation mixte      0.00503  0.07092  0.99338\n",
       "Hôtel                  0.01298  0.11393  0.98011\n",
       "Autre                  0.02326  0.15251  0.98283"
      ]
     },
     "execution_count": 149,
     "metadata": {},
     "output_type": "execute_result"
    }
   ],
   "source": [
    "scores_pptB"
   ]
  },
  {
   "cell_type": "code",
   "execution_count": 150,
   "metadata": {},
   "outputs": [
    {
     "data": {
      "text/plain": [
       "([<matplotlib.axis.YTick at 0x1f0ab320>,\n",
       "  <matplotlib.axis.YTick at 0x1f112a90>,\n",
       "  <matplotlib.axis.YTick at 0x1f15fba8>,\n",
       "  <matplotlib.axis.YTick at 0x27789240>,\n",
       "  <matplotlib.axis.YTick at 0x277a1d30>,\n",
       "  <matplotlib.axis.YTick at 0x2777af98>,\n",
       "  <matplotlib.axis.YTick at 0x277c9898>],\n",
       " <a list of 7 Text yticklabel objects>)"
      ]
     },
     "execution_count": 150,
     "metadata": {},
     "output_type": "execute_result"
    },
    {
     "data": {
      "image/png": "[encoded data removed]",
      "text/plain": [
       "<Figure size 432x288 with 1 Axes>"
      ]
     },
     "metadata": {
      "needs_background": "light"
     },
     "output_type": "display_data"
    }
   ],
   "source": [
    "plt.title(\"RMSE en fonction de type de bâtiment\")\n",
    "plt.barh(range(scores_pptB.shape[0]), scores_pptB['RMSE'], color='chocolate')\n",
    "plt.yticks(range(scores_pptB.shape[0]), scores_pptB.index)"
   ]
  },
  {
   "cell_type": "markdown",
   "metadata": {},
   "source": [
    "# 7 Evaluer l'intérêt d'ENERGY STAR Score "
   ]
  },
  {
   "cell_type": "markdown",
   "metadata": {},
   "source": [
    "## 7.1 Représentation graphique "
   ]
  },
  {
   "cell_type": "markdown",
   "metadata": {},
   "source": [
    "Dans un premier temps, nous allons voir comment la variable ENERGYSTAR Score est correlée avec Les émissions de CO2 :"
   ]
  },
  {
   "cell_type": "code",
   "execution_count": 151,
   "metadata": {},
   "outputs": [],
   "source": [
    "lin_reg= LinearRegression()"
   ]
  },
  {
   "cell_type": "code",
   "execution_count": 152,
   "metadata": {},
   "outputs": [
    {
     "data": {
      "text/plain": [
       "Text(0.5, 1.0, \"Emissions de CO2 en fonction d'ENERGY STAR Score\")"
      ]
     },
     "execution_count": 152,
     "metadata": {},
     "output_type": "execute_result"
    },
    {
     "data": {
      "image/png": "[encoded data removed]",
      "text/plain": [
       "<Figure size 432x288 with 1 Axes>"
      ]
     },
     "metadata": {
      "needs_background": "light"
     },
     "output_type": "display_data"
    }
   ],
   "source": [
    "plt.scatter(X_train_A['ENERGYSTARScore'], y_train_A, alpha=0.4)\n",
    "\n",
    "plt.ylabel('Log(Emissions de CO2)')\n",
    "plt.xlabel('ENERGY STAR Score')\n",
    "plt.title(\"Emissions de CO2 en fonction d'ENERGY STAR Score\")"
   ]
  },
  {
   "cell_type": "markdown",
   "metadata": {},
   "source": [
    "La représentation graphique la transformation logarithmique d'émissions de CO2 et ENERGY STAR Score ne montre pas de lien entre les deux variables. "
   ]
  },
  {
   "cell_type": "markdown",
   "metadata": {},
   "source": [
    "## 7.2 Evaluation de l'importance du feature avec forêts aléatoires"
   ]
  },
  {
   "cell_type": "markdown",
   "metadata": {},
   "source": [
    "Nous allons évaluer l'importance de feature ENERGY STAR Score sur la prédiction d'émissions à l'aide de modèle de forêts aléatoires. Tout d'abord, nous allons chercher les hyperparamètres du modèle avec grid evaluation comme pour la prédiction de consommation d'énérgie : "
   ]
  },
  {
   "cell_type": "code",
   "execution_count": 153,
   "metadata": {},
   "outputs": [
    {
     "data": {
      "text/plain": [
       "GridSearchCV(cv=5, error_score='raise-deprecating',\n",
       "             estimator=RandomForestRegressor(bootstrap=True, criterion='mse',\n",
       "                                             max_depth=None,\n",
       "                                             max_features='auto',\n",
       "                                             max_leaf_nodes=None,\n",
       "                                             min_impurity_decrease=0.0,\n",
       "                                             min_impurity_split=None,\n",
       "                                             min_samples_leaf=1,\n",
       "                                             min_samples_split=2,\n",
       "                                             min_weight_fraction_leaf=0.0,\n",
       "                                             n_estimators='warn', n_jobs=None,\n",
       "                                             oob_score=False, random_state=None,\n",
       "                                             verbose=0, warm_start=False),\n",
       "             iid='warn', n_jobs=None,\n",
       "             param_grid=[{'max_features': [5, 10, 15, 20, 25, 29],\n",
       "                          'n_estimators': [10, 20, 30, 40, 50, 60, 70, 80, 90,\n",
       "                                           100, 125, 150, 175, 200]}],\n",
       "             pre_dispatch='2*n_jobs', refit=True, return_train_score=True,\n",
       "             scoring='neg_mean_squared_error', verbose=0)"
      ]
     },
     "execution_count": 153,
     "metadata": {},
     "output_type": "execute_result"
    }
   ],
   "source": [
    "param_grid = [\n",
    "    {'n_estimators': [10, 20, 30, 40, 50, 60, 70, 80, 90,  100, 125,  150, 175, 200], 'max_features': [5, 10, 15, 20, 25, 29]} ]\n",
    "\n",
    "forest_reg = RandomForestRegressor()\n",
    "\n",
    "grid_search = GridSearchCV(forest_reg, param_grid, cv=5,\n",
    "                           scoring='neg_mean_squared_error',\n",
    "                           return_train_score=True)\n",
    "\n",
    "grid_search.fit(X_train_A, y_train_A)"
   ]
  },
  {
   "cell_type": "code",
   "execution_count": 154,
   "metadata": {},
   "outputs": [
    {
     "data": {
      "text/plain": [
       "{'max_features': 25, 'n_estimators': 200}"
      ]
     },
     "execution_count": 154,
     "metadata": {},
     "output_type": "execute_result"
    }
   ],
   "source": [
    "grid_search.best_params_"
   ]
  },
  {
   "cell_type": "code",
   "execution_count": 155,
   "metadata": {},
   "outputs": [
    {
     "data": {
      "text/plain": [
       "RandomForestRegressor(bootstrap=True, criterion='mse', max_depth=None,\n",
       "                      max_features=20, max_leaf_nodes=None,\n",
       "                      min_impurity_decrease=0.0, min_impurity_split=None,\n",
       "                      min_samples_leaf=1, min_samples_split=2,\n",
       "                      min_weight_fraction_leaf=0.0, n_estimators=20,\n",
       "                      n_jobs=None, oob_score=False, random_state=42, verbose=0,\n",
       "                      warm_start=False)"
      ]
     },
     "execution_count": 155,
     "metadata": {},
     "output_type": "execute_result"
    }
   ],
   "source": [
    "forest_A = RandomForestRegressor(max_features=20, n_estimators=20, random_state=42)\n",
    "forest_A.fit(X_train_A, y_train_A)"
   ]
  },
  {
   "cell_type": "markdown",
   "metadata": {},
   "source": [
    "Nous allons vérifier la performance du modèle avec son RMSE :"
   ]
  },
  {
   "cell_type": "code",
   "execution_count": 156,
   "metadata": {},
   "outputs": [],
   "source": [
    "pred_forest_A = forest_A.predict(X_test_A)\n",
    "mse_forest_A = round(mean_squared_error(y_test_A, pred_forest_A), 5)\n",
    "rmse_forest_A = round(np.sqrt(mse_forest_A), 5)"
   ]
  },
  {
   "cell_type": "code",
   "execution_count": 157,
   "metadata": {},
   "outputs": [
    {
     "data": {
      "text/plain": [
       "0.1226"
      ]
     },
     "execution_count": 157,
     "metadata": {},
     "output_type": "execute_result"
    }
   ],
   "source": [
    "rmse_forest_A"
   ]
  },
  {
   "cell_type": "markdown",
   "metadata": {},
   "source": [
    "Le modèle prédit les données test avec RMSE de 0.1226"
   ]
  },
  {
   "cell_type": "markdown",
   "metadata": {},
   "source": [
    "Et finalement nous allons afficher les importances de features :"
   ]
  },
  {
   "cell_type": "code",
   "execution_count": 158,
   "metadata": {},
   "outputs": [
    {
     "data": {
      "text/plain": [
       "[(0.672996560698921, 'SiteEnergyUse(kBtu)_log'),\n",
       " (0.10784340338780601, 'RatioSourceSite_sup3'),\n",
       " (0.09151113649571363, 'NaturalGas(kBtu)_pct'),\n",
       " (0.07211511168226664, 'LargestPropertyUseTypeGFA_log'),\n",
       " (0.011404766924942916, 'NumberofFloors_cat'),\n",
       " (0.010922894908352071, 'SteamUse(kBtu)_pct'),\n",
       " (0.008236320224683126, 'NaturalGas'),\n",
       " (0.0071679749280832, 'ENERGYSTARScore'),\n",
       " (0.005320722953696662, 'SteamUse'),\n",
       " (0.003570023098184802, 'Age'),\n",
       " (0.0012145001595101484, 'PrimaryPropertyType_Large Office'),\n",
       " (0.001041601355863839, 'PrimaryPropertyType_Warehouse'),\n",
       " (0.0008390668661684511, 'PrimaryPropertyType_Small- and Mid-Sized Office'),\n",
       " (0.0008014925674670105, 'PropGFABuilding'),\n",
       " (0.0007497119404037172, 'OneBuilding'),\n",
       " (0.0006859177996675907, 'ThirdLPT'),\n",
       " (0.0005436324311385862, 'PrimaryPropertyType_Mixed Use Property'),\n",
       " (0.0005296147551900904, 'CouncilDistrictCode_3'),\n",
       " (0.0004966999678267058, 'CouncilDistrictCode_2'),\n",
       " (0.00042630148620028313, 'PrimaryPropertyType_Other'),\n",
       " (0.00040666078983265136, 'SecondLPT'),\n",
       " (0.00023956319021264052, 'CouncilDistrictCode_4'),\n",
       " (0.0002166014556621439, 'PrimaryPropertyType_Retail Store'),\n",
       " (0.00020475969661091028, 'Parking'),\n",
       " (0.00015401056562984076, 'CouncilDistrictCode_1'),\n",
       " (0.00013046980506310288, 'ENERGYSTARCertified'),\n",
       " (0.00011797341890960831, 'PrimaryPropertyType_Hotel'),\n",
       " (5.768290119327715e-05, 'CouncilDistrictCode_5'),\n",
       " (5.482354479932309e-05, 'CouncilDistrictCode_6')]"
      ]
     },
     "execution_count": 158,
     "metadata": {},
     "output_type": "execute_result"
    }
   ],
   "source": [
    "sorted(zip(forest_A.feature_importances_, X_train_A.columns), reverse=True)"
   ]
  },
  {
   "cell_type": "code",
   "execution_count": 159,
   "metadata": {},
   "outputs": [
    {
     "name": "stdout",
     "output_type": "stream",
     "text": [
      "Feature ranking:\n",
      "1. feature 0 (0.672997)\n",
      "2. feature 24 (0.107843)\n",
      "3. feature 5 (0.091511)\n",
      "4. feature 6 (0.072115)\n",
      "5. feature 23 (0.011405)\n",
      "6. feature 4 (0.010923)\n",
      "7. feature 26 (0.008236)\n",
      "8. feature 3 (0.007168)\n",
      "9. feature 25 (0.005321)\n",
      "10. feature 1 (0.003570)\n",
      "11. feature 14 (0.001215)\n",
      "12. feature 19 (0.001042)\n",
      "13. feature 18 (0.000839)\n",
      "14. feature 2 (0.000801)\n",
      "15. feature 27 (0.000750)\n",
      "16. feature 21 (0.000686)\n",
      "17. feature 15 (0.000544)\n",
      "18. feature 9 (0.000530)\n",
      "19. feature 8 (0.000497)\n",
      "20. feature 16 (0.000426)\n",
      "21. feature 20 (0.000407)\n",
      "22. feature 10 (0.000240)\n",
      "23. feature 17 (0.000217)\n",
      "24. feature 28 (0.000205)\n",
      "25. feature 7 (0.000154)\n",
      "26. feature 22 (0.000130)\n",
      "27. feature 13 (0.000118)\n",
      "28. feature 11 (0.000058)\n",
      "29. feature 12 (0.000055)\n"
     ]
    },
    {
     "data": {
      "text/plain": [
       "<Figure size 432x288 with 0 Axes>"
      ]
     },
     "metadata": {},
     "output_type": "display_data"
    },
    {
     "data": {
      "image/png": "[encoded data removed]",
      "text/plain": [
       "<Figure size 1440x720 with 1 Axes>"
      ]
     },
     "metadata": {
      "needs_background": "light"
     },
     "output_type": "display_data"
    }
   ],
   "source": [
    "importances =forest_A.feature_importances_\n",
    "\n",
    "std = np.std([tree.feature_importances_ for tree in forest_A.estimators_],\n",
    "             axis=0)\n",
    "indices = np.argsort(importances)[::-1]\n",
    "\n",
    "# Print the feature ranking\n",
    "print(\"Feature ranking:\")\n",
    "\n",
    "for f in range(X_train_A.shape[1]):\n",
    "    print(\"%d. feature %d (%f)\" % (f + 1, indices[f], importances[indices[f]]))\n",
    "\n",
    "# Plot the feature importances of the forest\n",
    "plt.figure()\n",
    "fig = plt.figure(figsize=(20,10))\n",
    "plt.title(\"Feature importances\")\n",
    "plt.bar(range(X_train_A.shape[1]), importances[indices],\n",
    "       color=\"r\", yerr=std[indices], align=\"center\")\n",
    "plt.xticks(range(X_train_A.shape[1]), indices)\n",
    "plt.xlim([-1, X_train_A.shape[1]])\n",
    "\n",
    "label_size = 20\n",
    "plt.rcParams['xtick.labelsize'] = label_size \n",
    "plt.rcParams['ytick.labelsize'] = label_size \n",
    "\n",
    "plt.show()\n"
   ]
  },
  {
   "cell_type": "markdown",
   "metadata": {},
   "source": [
    "Nous pouvons voir que l'ENERGY STAR Score (ici feature n°3) a un certain poids dans le modèle, mais son rôle est très petit par rapport aux 4 premières features : consommation totale d'énergie, ratio source / site, pourcentage d'utilisation de gaz,  ou la surface de bâtiment."
   ]
  }
 ],
 "metadata": {
  "kernelspec": {
   "display_name": "Python 3",
   "language": "python",
   "name": "python3"
  },
  "language_info": {
   "codemirror_mode": {
    "name": "ipython",
    "version": 3
   },
   "file_extension": ".py",
   "mimetype": "text/x-python",
   "name": "python",
   "nbconvert_exporter": "python",
   "pygments_lexer": "ipython3",
   "version": "3.7.3"
  },
  "latex_envs": {
   "LaTeX_envs_menu_present": true,
   "autoclose": false,
   "autocomplete": true,
   "bibliofile": "biblio.bib",
   "cite_by": "apalike",
   "current_citInitial": 1,
   "eqLabelWithNumbers": true,
   "eqNumInitial": 1,
   "hotkeys": {
    "equation": "Ctrl-E",
    "itemize": "Ctrl-I"
   },
   "labels_anchors": false,
   "latex_user_defs": false,
   "report_style_numbering": false,
   "user_envs_cfg": false
  },
  "toc": {
   "base_numbering": 1,
   "nav_menu": {
    "height": "20px",
    "width": "160px"
   },
   "number_sections": false,
   "sideBar": true,
   "skip_h1_title": false,
   "title_cell": "Table of Contents",
   "title_sidebar": "Contents",
   "toc_cell": false,
   "toc_position": {
    "height": "calc(100% - 180px)",
    "left": "10px",
    "top": "150px",
    "width": "165px"
   },
   "toc_section_display": true,
   "toc_window_display": true
  }
 },
 "nbformat": 4,
 "nbformat_minor": 2
}
